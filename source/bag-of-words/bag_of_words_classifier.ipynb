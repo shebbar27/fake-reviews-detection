{
  "cells": [
    {
      "cell_type": "code",
      "execution_count": 1,
      "id": "e537be6d",
      "metadata": {
        "id": "e537be6d"
      },
      "outputs": [],
      "source": [
        "%load_ext autoreload\n",
        "%autoreload 2"
      ]
    },
    {
      "cell_type": "markdown",
      "id": "e8d432b1",
      "metadata": {
        "id": "e8d432b1"
      },
      "source": [
        "### Import dependencies"
      ]
    },
    {
      "cell_type": "code",
      "execution_count": 2,
      "id": "b29caa81",
      "metadata": {
        "id": "b29caa81",
        "scrolled": false,
        "colab": {
          "base_uri": "https://localhost:8080/"
        },
        "outputId": "f5f48219-cdaa-4d73-b1e3-538dd66447c8"
      },
      "outputs": [
        {
          "output_type": "stream",
          "name": "stderr",
          "text": [
            "[nltk_data] Downloading package averaged_perceptron_tagger to\n",
            "[nltk_data]     /root/nltk_data...\n",
            "[nltk_data]   Unzipping taggers/averaged_perceptron_tagger.zip.\n",
            "[nltk_data] Downloading package wordnet to /root/nltk_data...\n",
            "[nltk_data] Downloading package omw-1.4 to /root/nltk_data...\n",
            "[nltk_data] Downloading package stopwords to /root/nltk_data...\n",
            "[nltk_data]   Unzipping corpora/stopwords.zip.\n"
          ]
        },
        {
          "output_type": "execute_result",
          "data": {
            "text/plain": [
              "True"
            ]
          },
          "metadata": {},
          "execution_count": 2
        }
      ],
      "source": [
        "import matplotlib.pyplot as plt\n",
        "import numpy as np\n",
        "import pandas as pd\n",
        "\n",
        "\n",
        "from sklearn import model_selection\n",
        "from sklearn.decomposition import PCA\n",
        "from sklearn.ensemble import RandomForestClassifier\n",
        "from sklearn.metrics import accuracy_score, precision_score, recall_score, f1_score, roc_auc_score, roc_curve\n",
        "from sklearn.model_selection import train_test_split, GridSearchCV\n",
        "from sklearn.preprocessing import StandardScaler\n",
        "from sklearn.pipeline import Pipeline\n",
        "from sklearn.svm import SVC\n",
        "\n",
        "import nltk\n",
        "nltk.download('averaged_perceptron_tagger')\n",
        "nltk.download('wordnet')\n",
        "nltk.download('omw-1.4')\n",
        "nltk.download('stopwords')"
      ]
    },
    {
      "cell_type": "code",
      "execution_count": 3,
      "id": "BtHr8l09VqPe",
      "metadata": {
        "colab": {
          "base_uri": "https://localhost:8080/"
        },
        "id": "BtHr8l09VqPe",
        "outputId": "12f76827-69ca-40c4-a361-cf90e956c1bd"
      },
      "outputs": [
        {
          "output_type": "stream",
          "name": "stdout",
          "text": [
            "Mounted at /content/drive\n"
          ]
        }
      ],
      "source": [
        "from google.colab import drive\n",
        "drive.mount('/content/drive', force_remount=True)"
      ]
    },
    {
      "cell_type": "code",
      "execution_count": 4,
      "id": "KcxBnFXGV6Mk",
      "metadata": {
        "id": "KcxBnFXGV6Mk"
      },
      "outputs": [],
      "source": [
        "import sys\n",
        "sys.path.append('/content/drive/My Drive/Colab Notebooks/fake-reviews-detection/source/common/')"
      ]
    },
    {
      "cell_type": "code",
      "execution_count": 5,
      "id": "760e3bb1",
      "metadata": {
        "id": "760e3bb1"
      },
      "outputs": [],
      "source": [
        "import data_preprocessing\n",
        "import ngram\n",
        "import linguistic_feature"
      ]
    },
    {
      "cell_type": "markdown",
      "id": "ca5bf9af",
      "metadata": {
        "id": "ca5bf9af"
      },
      "source": [
        "### Import Data"
      ]
    },
    {
      "cell_type": "code",
      "execution_count": 6,
      "id": "0e6fdb0c",
      "metadata": {
        "colab": {
          "base_uri": "https://localhost:8080/",
          "height": 206
        },
        "id": "0e6fdb0c",
        "outputId": "84c61d0e-b19e-40b5-f034-c68aed10e8f8",
        "scrolled": true
      },
      "outputs": [
        {
          "output_type": "display_data",
          "data": {
            "text/plain": [
              "   Label  Rating                                         Ori_Review\n",
              "0      1       1  For 250 dollars, cheapest room available at th...\n",
              "1      1       1  Me and my business associate had a job in Chic...\n",
              "2      1       1  My stay at the Hyatt Regency was an experience...\n",
              "3      1       1  Upon first inspection, Sofitel Chicago Water T...\n",
              "4      1       1  I wish to express my dissatisfaction with my s..."
            ],
            "text/html": [
              "\n",
              "  <div id=\"df-aa68b8e2-5352-4c96-8eaa-b07668f0ef61\">\n",
              "    <div class=\"colab-df-container\">\n",
              "      <div>\n",
              "<style scoped>\n",
              "    .dataframe tbody tr th:only-of-type {\n",
              "        vertical-align: middle;\n",
              "    }\n",
              "\n",
              "    .dataframe tbody tr th {\n",
              "        vertical-align: top;\n",
              "    }\n",
              "\n",
              "    .dataframe thead th {\n",
              "        text-align: right;\n",
              "    }\n",
              "</style>\n",
              "<table border=\"1\" class=\"dataframe\">\n",
              "  <thead>\n",
              "    <tr style=\"text-align: right;\">\n",
              "      <th></th>\n",
              "      <th>Label</th>\n",
              "      <th>Rating</th>\n",
              "      <th>Ori_Review</th>\n",
              "    </tr>\n",
              "  </thead>\n",
              "  <tbody>\n",
              "    <tr>\n",
              "      <th>0</th>\n",
              "      <td>1</td>\n",
              "      <td>1</td>\n",
              "      <td>For 250 dollars, cheapest room available at th...</td>\n",
              "    </tr>\n",
              "    <tr>\n",
              "      <th>1</th>\n",
              "      <td>1</td>\n",
              "      <td>1</td>\n",
              "      <td>Me and my business associate had a job in Chic...</td>\n",
              "    </tr>\n",
              "    <tr>\n",
              "      <th>2</th>\n",
              "      <td>1</td>\n",
              "      <td>1</td>\n",
              "      <td>My stay at the Hyatt Regency was an experience...</td>\n",
              "    </tr>\n",
              "    <tr>\n",
              "      <th>3</th>\n",
              "      <td>1</td>\n",
              "      <td>1</td>\n",
              "      <td>Upon first inspection, Sofitel Chicago Water T...</td>\n",
              "    </tr>\n",
              "    <tr>\n",
              "      <th>4</th>\n",
              "      <td>1</td>\n",
              "      <td>1</td>\n",
              "      <td>I wish to express my dissatisfaction with my s...</td>\n",
              "    </tr>\n",
              "  </tbody>\n",
              "</table>\n",
              "</div>\n",
              "      <button class=\"colab-df-convert\" onclick=\"convertToInteractive('df-aa68b8e2-5352-4c96-8eaa-b07668f0ef61')\"\n",
              "              title=\"Convert this dataframe to an interactive table.\"\n",
              "              style=\"display:none;\">\n",
              "        \n",
              "  <svg xmlns=\"http://www.w3.org/2000/svg\" height=\"24px\"viewBox=\"0 0 24 24\"\n",
              "       width=\"24px\">\n",
              "    <path d=\"M0 0h24v24H0V0z\" fill=\"none\"/>\n",
              "    <path d=\"M18.56 5.44l.94 2.06.94-2.06 2.06-.94-2.06-.94-.94-2.06-.94 2.06-2.06.94zm-11 1L8.5 8.5l.94-2.06 2.06-.94-2.06-.94L8.5 2.5l-.94 2.06-2.06.94zm10 10l.94 2.06.94-2.06 2.06-.94-2.06-.94-.94-2.06-.94 2.06-2.06.94z\"/><path d=\"M17.41 7.96l-1.37-1.37c-.4-.4-.92-.59-1.43-.59-.52 0-1.04.2-1.43.59L10.3 9.45l-7.72 7.72c-.78.78-.78 2.05 0 2.83L4 21.41c.39.39.9.59 1.41.59.51 0 1.02-.2 1.41-.59l7.78-7.78 2.81-2.81c.8-.78.8-2.07 0-2.86zM5.41 20L4 18.59l7.72-7.72 1.47 1.35L5.41 20z\"/>\n",
              "  </svg>\n",
              "      </button>\n",
              "      \n",
              "  <style>\n",
              "    .colab-df-container {\n",
              "      display:flex;\n",
              "      flex-wrap:wrap;\n",
              "      gap: 12px;\n",
              "    }\n",
              "\n",
              "    .colab-df-convert {\n",
              "      background-color: #E8F0FE;\n",
              "      border: none;\n",
              "      border-radius: 50%;\n",
              "      cursor: pointer;\n",
              "      display: none;\n",
              "      fill: #1967D2;\n",
              "      height: 32px;\n",
              "      padding: 0 0 0 0;\n",
              "      width: 32px;\n",
              "    }\n",
              "\n",
              "    .colab-df-convert:hover {\n",
              "      background-color: #E2EBFA;\n",
              "      box-shadow: 0px 1px 2px rgba(60, 64, 67, 0.3), 0px 1px 3px 1px rgba(60, 64, 67, 0.15);\n",
              "      fill: #174EA6;\n",
              "    }\n",
              "\n",
              "    [theme=dark] .colab-df-convert {\n",
              "      background-color: #3B4455;\n",
              "      fill: #D2E3FC;\n",
              "    }\n",
              "\n",
              "    [theme=dark] .colab-df-convert:hover {\n",
              "      background-color: #434B5C;\n",
              "      box-shadow: 0px 1px 3px 1px rgba(0, 0, 0, 0.15);\n",
              "      filter: drop-shadow(0px 1px 2px rgba(0, 0, 0, 0.3));\n",
              "      fill: #FFFFFF;\n",
              "    }\n",
              "  </style>\n",
              "\n",
              "      <script>\n",
              "        const buttonEl =\n",
              "          document.querySelector('#df-aa68b8e2-5352-4c96-8eaa-b07668f0ef61 button.colab-df-convert');\n",
              "        buttonEl.style.display =\n",
              "          google.colab.kernel.accessAllowed ? 'block' : 'none';\n",
              "\n",
              "        async function convertToInteractive(key) {\n",
              "          const element = document.querySelector('#df-aa68b8e2-5352-4c96-8eaa-b07668f0ef61');\n",
              "          const dataTable =\n",
              "            await google.colab.kernel.invokeFunction('convertToInteractive',\n",
              "                                                     [key], {});\n",
              "          if (!dataTable) return;\n",
              "\n",
              "          const docLinkHtml = 'Like what you see? Visit the ' +\n",
              "            '<a target=\"_blank\" href=https://colab.research.google.com/notebooks/data_table.ipynb>data table notebook</a>'\n",
              "            + ' to learn more about interactive tables.';\n",
              "          element.innerHTML = '';\n",
              "          dataTable['output_type'] = 'display_data';\n",
              "          await google.colab.output.renderOutput(dataTable, element);\n",
              "          const docLink = document.createElement('div');\n",
              "          docLink.innerHTML = docLinkHtml;\n",
              "          element.appendChild(docLink);\n",
              "        }\n",
              "      </script>\n",
              "    </div>\n",
              "  </div>\n",
              "  "
            ]
          },
          "metadata": {}
        }
      ],
      "source": [
        "root_dir = \"/content/drive/My Drive/Colab Notebooks/fake-reviews-detection\"\n",
        "df = data_preprocessing.import_raw_data(root_dir)\n",
        "display(df[:5])"
      ]
    },
    {
      "cell_type": "markdown",
      "id": "48138f8c",
      "metadata": {
        "id": "48138f8c"
      },
      "source": [
        "### Train-Test Split"
      ]
    },
    {
      "cell_type": "code",
      "execution_count": 7,
      "id": "966b3df5",
      "metadata": {
        "id": "966b3df5"
      },
      "outputs": [],
      "source": [
        "df_train, df_test = train_test_split(df, test_size=0.2, random_state=0)"
      ]
    },
    {
      "cell_type": "markdown",
      "id": "f1bd39be",
      "metadata": {
        "id": "f1bd39be"
      },
      "source": [
        "### Preprocess & Feature Extraction"
      ]
    },
    {
      "cell_type": "code",
      "execution_count": 8,
      "id": "b74c5369",
      "metadata": {
        "id": "b74c5369",
        "scrolled": false
      },
      "outputs": [],
      "source": [
        "df_train = data_preprocessing.preprocess_ngram(df_train)\n",
        "df_test = data_preprocessing.preprocess_ngram(df_test)"
      ]
    },
    {
      "cell_type": "code",
      "execution_count": 9,
      "id": "093bac77",
      "metadata": {
        "id": "093bac77"
      },
      "outputs": [],
      "source": [
        "unigrams, bigrams, trigrams, unigrams_dict, bigrams_dict, trigrams_dict = ngram.find_universal_ngrams(df_train['PP_Review'])"
      ]
    },
    {
      "cell_type": "code",
      "execution_count": 10,
      "id": "4001bdd6",
      "metadata": {
        "colab": {
          "base_uri": "https://localhost:8080/",
          "height": 270
        },
        "id": "4001bdd6",
        "outputId": "22737879-6fa7-4af8-80a2-e48e3cbac896",
        "scrolled": false
      },
      "outputs": [
        {
          "output_type": "display_data",
          "data": {
            "text/plain": [
              "   Label  Rating                                         Ori_Review  \\\n",
              "0     -1       1  Negative points: 1. I guess they gave me the w...   \n",
              "1      1       1  I was REALLY looking forward to a nice relaxin...   \n",
              "2     -1       1  This was a gorgeous hotel from the outside and...   \n",
              "\n",
              "                                        Clean_Review  \\\n",
              "0  negative point i guess they give me the bad ro...   \n",
              "1  i be really look forward to a nice relaxing st...   \n",
              "2  this be a gorgeous hotel from the outside and ...   \n",
              "\n",
              "                                           PP_Review  \\\n",
              "0  negative point guess give bad small king size ...   \n",
              "1  really look forward nice relaxing end long vac...   \n",
              "2  gorgeous outside lobby however reach elevator ...   \n",
              "\n",
              "                                           Word_List  \\\n",
              "0  [negative, point, guess, give, bad, small, kin...   \n",
              "1  [really, look, forward, nice, relaxing, end, l...   \n",
              "2  [gorgeous, outside, lobby, however, reach, ele...   \n",
              "\n",
              "                                               Ngram  \n",
              "0  [negative, point, guess, give, bad, small, kin...  \n",
              "1  [really, look, forward, nice, relaxing, end, l...  \n",
              "2  [gorgeous, outside, lobby, however, reach, ele...  "
            ],
            "text/html": [
              "\n",
              "  <div id=\"df-3f2adfba-62cf-4a7d-a6e2-7dd35505df41\">\n",
              "    <div class=\"colab-df-container\">\n",
              "      <div>\n",
              "<style scoped>\n",
              "    .dataframe tbody tr th:only-of-type {\n",
              "        vertical-align: middle;\n",
              "    }\n",
              "\n",
              "    .dataframe tbody tr th {\n",
              "        vertical-align: top;\n",
              "    }\n",
              "\n",
              "    .dataframe thead th {\n",
              "        text-align: right;\n",
              "    }\n",
              "</style>\n",
              "<table border=\"1\" class=\"dataframe\">\n",
              "  <thead>\n",
              "    <tr style=\"text-align: right;\">\n",
              "      <th></th>\n",
              "      <th>Label</th>\n",
              "      <th>Rating</th>\n",
              "      <th>Ori_Review</th>\n",
              "      <th>Clean_Review</th>\n",
              "      <th>PP_Review</th>\n",
              "      <th>Word_List</th>\n",
              "      <th>Ngram</th>\n",
              "    </tr>\n",
              "  </thead>\n",
              "  <tbody>\n",
              "    <tr>\n",
              "      <th>0</th>\n",
              "      <td>-1</td>\n",
              "      <td>1</td>\n",
              "      <td>Negative points: 1. I guess they gave me the w...</td>\n",
              "      <td>negative point i guess they give me the bad ro...</td>\n",
              "      <td>negative point guess give bad small king size ...</td>\n",
              "      <td>[negative, point, guess, give, bad, small, kin...</td>\n",
              "      <td>[negative, point, guess, give, bad, small, kin...</td>\n",
              "    </tr>\n",
              "    <tr>\n",
              "      <th>1</th>\n",
              "      <td>1</td>\n",
              "      <td>1</td>\n",
              "      <td>I was REALLY looking forward to a nice relaxin...</td>\n",
              "      <td>i be really look forward to a nice relaxing st...</td>\n",
              "      <td>really look forward nice relaxing end long vac...</td>\n",
              "      <td>[really, look, forward, nice, relaxing, end, l...</td>\n",
              "      <td>[really, look, forward, nice, relaxing, end, l...</td>\n",
              "    </tr>\n",
              "    <tr>\n",
              "      <th>2</th>\n",
              "      <td>-1</td>\n",
              "      <td>1</td>\n",
              "      <td>This was a gorgeous hotel from the outside and...</td>\n",
              "      <td>this be a gorgeous hotel from the outside and ...</td>\n",
              "      <td>gorgeous outside lobby however reach elevator ...</td>\n",
              "      <td>[gorgeous, outside, lobby, however, reach, ele...</td>\n",
              "      <td>[gorgeous, outside, lobby, however, reach, ele...</td>\n",
              "    </tr>\n",
              "  </tbody>\n",
              "</table>\n",
              "</div>\n",
              "      <button class=\"colab-df-convert\" onclick=\"convertToInteractive('df-3f2adfba-62cf-4a7d-a6e2-7dd35505df41')\"\n",
              "              title=\"Convert this dataframe to an interactive table.\"\n",
              "              style=\"display:none;\">\n",
              "        \n",
              "  <svg xmlns=\"http://www.w3.org/2000/svg\" height=\"24px\"viewBox=\"0 0 24 24\"\n",
              "       width=\"24px\">\n",
              "    <path d=\"M0 0h24v24H0V0z\" fill=\"none\"/>\n",
              "    <path d=\"M18.56 5.44l.94 2.06.94-2.06 2.06-.94-2.06-.94-.94-2.06-.94 2.06-2.06.94zm-11 1L8.5 8.5l.94-2.06 2.06-.94-2.06-.94L8.5 2.5l-.94 2.06-2.06.94zm10 10l.94 2.06.94-2.06 2.06-.94-2.06-.94-.94-2.06-.94 2.06-2.06.94z\"/><path d=\"M17.41 7.96l-1.37-1.37c-.4-.4-.92-.59-1.43-.59-.52 0-1.04.2-1.43.59L10.3 9.45l-7.72 7.72c-.78.78-.78 2.05 0 2.83L4 21.41c.39.39.9.59 1.41.59.51 0 1.02-.2 1.41-.59l7.78-7.78 2.81-2.81c.8-.78.8-2.07 0-2.86zM5.41 20L4 18.59l7.72-7.72 1.47 1.35L5.41 20z\"/>\n",
              "  </svg>\n",
              "      </button>\n",
              "      \n",
              "  <style>\n",
              "    .colab-df-container {\n",
              "      display:flex;\n",
              "      flex-wrap:wrap;\n",
              "      gap: 12px;\n",
              "    }\n",
              "\n",
              "    .colab-df-convert {\n",
              "      background-color: #E8F0FE;\n",
              "      border: none;\n",
              "      border-radius: 50%;\n",
              "      cursor: pointer;\n",
              "      display: none;\n",
              "      fill: #1967D2;\n",
              "      height: 32px;\n",
              "      padding: 0 0 0 0;\n",
              "      width: 32px;\n",
              "    }\n",
              "\n",
              "    .colab-df-convert:hover {\n",
              "      background-color: #E2EBFA;\n",
              "      box-shadow: 0px 1px 2px rgba(60, 64, 67, 0.3), 0px 1px 3px 1px rgba(60, 64, 67, 0.15);\n",
              "      fill: #174EA6;\n",
              "    }\n",
              "\n",
              "    [theme=dark] .colab-df-convert {\n",
              "      background-color: #3B4455;\n",
              "      fill: #D2E3FC;\n",
              "    }\n",
              "\n",
              "    [theme=dark] .colab-df-convert:hover {\n",
              "      background-color: #434B5C;\n",
              "      box-shadow: 0px 1px 3px 1px rgba(0, 0, 0, 0.15);\n",
              "      filter: drop-shadow(0px 1px 2px rgba(0, 0, 0, 0.3));\n",
              "      fill: #FFFFFF;\n",
              "    }\n",
              "  </style>\n",
              "\n",
              "      <script>\n",
              "        const buttonEl =\n",
              "          document.querySelector('#df-3f2adfba-62cf-4a7d-a6e2-7dd35505df41 button.colab-df-convert');\n",
              "        buttonEl.style.display =\n",
              "          google.colab.kernel.accessAllowed ? 'block' : 'none';\n",
              "\n",
              "        async function convertToInteractive(key) {\n",
              "          const element = document.querySelector('#df-3f2adfba-62cf-4a7d-a6e2-7dd35505df41');\n",
              "          const dataTable =\n",
              "            await google.colab.kernel.invokeFunction('convertToInteractive',\n",
              "                                                     [key], {});\n",
              "          if (!dataTable) return;\n",
              "\n",
              "          const docLinkHtml = 'Like what you see? Visit the ' +\n",
              "            '<a target=\"_blank\" href=https://colab.research.google.com/notebooks/data_table.ipynb>data table notebook</a>'\n",
              "            + ' to learn more about interactive tables.';\n",
              "          element.innerHTML = '';\n",
              "          dataTable['output_type'] = 'display_data';\n",
              "          await google.colab.output.renderOutput(dataTable, element);\n",
              "          const docLink = document.createElement('div');\n",
              "          docLink.innerHTML = docLinkHtml;\n",
              "          element.appendChild(docLink);\n",
              "        }\n",
              "      </script>\n",
              "    </div>\n",
              "  </div>\n",
              "  "
            ]
          },
          "metadata": {}
        },
        {
          "output_type": "display_data",
          "data": {
            "text/plain": [
              "   Label  Rating                                         Ori_Review  \\\n",
              "0      1       5  Our stay at the James in late last August exce...   \n",
              "1      1       1  As a former Chicagoan, I'm appalled at the Ama...   \n",
              "2     -1       5  I stayed at this Hotel for 1 night. We just wa...   \n",
              "\n",
              "                                        Clean_Review  \\\n",
              "0  our stay at the james in late last august exce...   \n",
              "1  a a former chicagoan i m appal at the amalfi h...   \n",
              "2  i stay at this hotel for night we just want to...   \n",
              "\n",
              "                                           PP_Review  \\\n",
              "0  james late last august exceed expectation husb...   \n",
              "1  former chicagoan appal amalfi first expect lux...   \n",
              "2  night want downtown right next john hancock bu...   \n",
              "\n",
              "                                           Word_List  \\\n",
              "0  [james, late, last, august, exceed, expectatio...   \n",
              "1  [former, chicagoan, appal, amalfi, first, expe...   \n",
              "2  [night, want, downtown, right, next, john, han...   \n",
              "\n",
              "                                               Ngram  \n",
              "0  [james, late, last, expectation, husband, busi...  \n",
              "1  [amalfi, first, expect, luxury, receive, exper...  \n",
              "2  [night, want, downtown, right, next, walk, dis...  "
            ],
            "text/html": [
              "\n",
              "  <div id=\"df-04b9376b-8cfe-4930-8cd4-a5f5ad0eef35\">\n",
              "    <div class=\"colab-df-container\">\n",
              "      <div>\n",
              "<style scoped>\n",
              "    .dataframe tbody tr th:only-of-type {\n",
              "        vertical-align: middle;\n",
              "    }\n",
              "\n",
              "    .dataframe tbody tr th {\n",
              "        vertical-align: top;\n",
              "    }\n",
              "\n",
              "    .dataframe thead th {\n",
              "        text-align: right;\n",
              "    }\n",
              "</style>\n",
              "<table border=\"1\" class=\"dataframe\">\n",
              "  <thead>\n",
              "    <tr style=\"text-align: right;\">\n",
              "      <th></th>\n",
              "      <th>Label</th>\n",
              "      <th>Rating</th>\n",
              "      <th>Ori_Review</th>\n",
              "      <th>Clean_Review</th>\n",
              "      <th>PP_Review</th>\n",
              "      <th>Word_List</th>\n",
              "      <th>Ngram</th>\n",
              "    </tr>\n",
              "  </thead>\n",
              "  <tbody>\n",
              "    <tr>\n",
              "      <th>0</th>\n",
              "      <td>1</td>\n",
              "      <td>5</td>\n",
              "      <td>Our stay at the James in late last August exce...</td>\n",
              "      <td>our stay at the james in late last august exce...</td>\n",
              "      <td>james late last august exceed expectation husb...</td>\n",
              "      <td>[james, late, last, august, exceed, expectatio...</td>\n",
              "      <td>[james, late, last, expectation, husband, busi...</td>\n",
              "    </tr>\n",
              "    <tr>\n",
              "      <th>1</th>\n",
              "      <td>1</td>\n",
              "      <td>1</td>\n",
              "      <td>As a former Chicagoan, I'm appalled at the Ama...</td>\n",
              "      <td>a a former chicagoan i m appal at the amalfi h...</td>\n",
              "      <td>former chicagoan appal amalfi first expect lux...</td>\n",
              "      <td>[former, chicagoan, appal, amalfi, first, expe...</td>\n",
              "      <td>[amalfi, first, expect, luxury, receive, exper...</td>\n",
              "    </tr>\n",
              "    <tr>\n",
              "      <th>2</th>\n",
              "      <td>-1</td>\n",
              "      <td>5</td>\n",
              "      <td>I stayed at this Hotel for 1 night. We just wa...</td>\n",
              "      <td>i stay at this hotel for night we just want to...</td>\n",
              "      <td>night want downtown right next john hancock bu...</td>\n",
              "      <td>[night, want, downtown, right, next, john, han...</td>\n",
              "      <td>[night, want, downtown, right, next, walk, dis...</td>\n",
              "    </tr>\n",
              "  </tbody>\n",
              "</table>\n",
              "</div>\n",
              "      <button class=\"colab-df-convert\" onclick=\"convertToInteractive('df-04b9376b-8cfe-4930-8cd4-a5f5ad0eef35')\"\n",
              "              title=\"Convert this dataframe to an interactive table.\"\n",
              "              style=\"display:none;\">\n",
              "        \n",
              "  <svg xmlns=\"http://www.w3.org/2000/svg\" height=\"24px\"viewBox=\"0 0 24 24\"\n",
              "       width=\"24px\">\n",
              "    <path d=\"M0 0h24v24H0V0z\" fill=\"none\"/>\n",
              "    <path d=\"M18.56 5.44l.94 2.06.94-2.06 2.06-.94-2.06-.94-.94-2.06-.94 2.06-2.06.94zm-11 1L8.5 8.5l.94-2.06 2.06-.94-2.06-.94L8.5 2.5l-.94 2.06-2.06.94zm10 10l.94 2.06.94-2.06 2.06-.94-2.06-.94-.94-2.06-.94 2.06-2.06.94z\"/><path d=\"M17.41 7.96l-1.37-1.37c-.4-.4-.92-.59-1.43-.59-.52 0-1.04.2-1.43.59L10.3 9.45l-7.72 7.72c-.78.78-.78 2.05 0 2.83L4 21.41c.39.39.9.59 1.41.59.51 0 1.02-.2 1.41-.59l7.78-7.78 2.81-2.81c.8-.78.8-2.07 0-2.86zM5.41 20L4 18.59l7.72-7.72 1.47 1.35L5.41 20z\"/>\n",
              "  </svg>\n",
              "      </button>\n",
              "      \n",
              "  <style>\n",
              "    .colab-df-container {\n",
              "      display:flex;\n",
              "      flex-wrap:wrap;\n",
              "      gap: 12px;\n",
              "    }\n",
              "\n",
              "    .colab-df-convert {\n",
              "      background-color: #E8F0FE;\n",
              "      border: none;\n",
              "      border-radius: 50%;\n",
              "      cursor: pointer;\n",
              "      display: none;\n",
              "      fill: #1967D2;\n",
              "      height: 32px;\n",
              "      padding: 0 0 0 0;\n",
              "      width: 32px;\n",
              "    }\n",
              "\n",
              "    .colab-df-convert:hover {\n",
              "      background-color: #E2EBFA;\n",
              "      box-shadow: 0px 1px 2px rgba(60, 64, 67, 0.3), 0px 1px 3px 1px rgba(60, 64, 67, 0.15);\n",
              "      fill: #174EA6;\n",
              "    }\n",
              "\n",
              "    [theme=dark] .colab-df-convert {\n",
              "      background-color: #3B4455;\n",
              "      fill: #D2E3FC;\n",
              "    }\n",
              "\n",
              "    [theme=dark] .colab-df-convert:hover {\n",
              "      background-color: #434B5C;\n",
              "      box-shadow: 0px 1px 3px 1px rgba(0, 0, 0, 0.15);\n",
              "      filter: drop-shadow(0px 1px 2px rgba(0, 0, 0, 0.3));\n",
              "      fill: #FFFFFF;\n",
              "    }\n",
              "  </style>\n",
              "\n",
              "      <script>\n",
              "        const buttonEl =\n",
              "          document.querySelector('#df-04b9376b-8cfe-4930-8cd4-a5f5ad0eef35 button.colab-df-convert');\n",
              "        buttonEl.style.display =\n",
              "          google.colab.kernel.accessAllowed ? 'block' : 'none';\n",
              "\n",
              "        async function convertToInteractive(key) {\n",
              "          const element = document.querySelector('#df-04b9376b-8cfe-4930-8cd4-a5f5ad0eef35');\n",
              "          const dataTable =\n",
              "            await google.colab.kernel.invokeFunction('convertToInteractive',\n",
              "                                                     [key], {});\n",
              "          if (!dataTable) return;\n",
              "\n",
              "          const docLinkHtml = 'Like what you see? Visit the ' +\n",
              "            '<a target=\"_blank\" href=https://colab.research.google.com/notebooks/data_table.ipynb>data table notebook</a>'\n",
              "            + ' to learn more about interactive tables.';\n",
              "          element.innerHTML = '';\n",
              "          dataTable['output_type'] = 'display_data';\n",
              "          await google.colab.output.renderOutput(dataTable, element);\n",
              "          const docLink = document.createElement('div');\n",
              "          docLink.innerHTML = docLinkHtml;\n",
              "          element.appendChild(docLink);\n",
              "        }\n",
              "      </script>\n",
              "    </div>\n",
              "  </div>\n",
              "  "
            ]
          },
          "metadata": {}
        }
      ],
      "source": [
        "df_train['Ngram'] = df_train['Word_List'].apply(lambda x: ngram.find_ngrams(x, unigrams_dict, bigrams_dict, trigrams_dict))\n",
        "df_test['Ngram'] = df_test['Word_List'].apply(lambda x: ngram.find_ngrams(x, unigrams_dict, bigrams_dict, trigrams_dict))\n",
        "display(df_train[:3])\n",
        "display(df_test[:3])"
      ]
    },
    {
      "cell_type": "code",
      "execution_count": 11,
      "id": "3bdba405",
      "metadata": {
        "id": "3bdba405"
      },
      "outputs": [],
      "source": [
        "bigram_words = [' '.join(bigram) for bigram in bigrams]\n",
        "trigram_words = [' '.join(trigram) for trigram in trigrams]\n",
        "new_words = unigrams + bigram_words + trigram_words"
      ]
    },
    {
      "cell_type": "code",
      "execution_count": 12,
      "id": "385ce483",
      "metadata": {
        "id": "385ce483"
      },
      "outputs": [],
      "source": [
        "df_train = data_preprocessing.preprocess_linguistic_features(df_train)\n",
        "df_train = linguistic_feature.linguistic_features(df_train)\n",
        "df_test = data_preprocessing.preprocess_linguistic_features(df_test)\n",
        "df_test = linguistic_feature.linguistic_features(df_test)"
      ]
    },
    {
      "cell_type": "code",
      "execution_count": 13,
      "id": "1d5ee3ec",
      "metadata": {
        "id": "1d5ee3ec"
      },
      "outputs": [],
      "source": [
        "word2ind = dict(zip(new_words, range(len(new_words))))"
      ]
    },
    {
      "cell_type": "code",
      "execution_count": 14,
      "id": "5aaa4629",
      "metadata": {
        "id": "5aaa4629"
      },
      "outputs": [],
      "source": [
        "X_train, y_train = data_preprocessing.df2matrix(df_train, word2ind)\n",
        "X_test, y_test = data_preprocessing.df2matrix(df_test, word2ind)"
      ]
    },
    {
      "cell_type": "code",
      "execution_count": 15,
      "id": "e48d53d2",
      "metadata": {
        "id": "e48d53d2"
      },
      "outputs": [],
      "source": [
        "X_train_pos = X_train[X_train['Rating'] == 5]\n",
        "y_train_pos = y_train[X_train['Rating'] == 5]\n",
        "X_train_neg = X_train[X_train['Rating'] == 1]\n",
        "y_train_neg = y_train[X_train['Rating'] == 1]\n",
        "\n",
        "X_test_pos = X_test[X_test['Rating'] == 5]\n",
        "y_test_pos = y_test[X_test['Rating'] == 5]\n",
        "X_test_neg = X_test[X_test['Rating'] == 1]\n",
        "y_test_neg = y_test[X_test['Rating'] == 1]"
      ]
    },
    {
      "cell_type": "code",
      "execution_count": 16,
      "id": "5ed412b2",
      "metadata": {
        "id": "5ed412b2"
      },
      "outputs": [],
      "source": [
        "X_train_std = StandardScaler().fit_transform(X_train)\n",
        "X_test_std = StandardScaler().fit_transform(X_test)"
      ]
    },
    {
      "cell_type": "code",
      "execution_count": 17,
      "id": "0c7f2169",
      "metadata": {
        "id": "0c7f2169"
      },
      "outputs": [],
      "source": [
        "X_train_pos_std = X_train_std[X_train['Rating'] == 5]\n",
        "X_train_neg_std = X_train_std[X_train['Rating'] == 1]\n",
        "\n",
        "X_test_pos_std = X_test_std[X_test['Rating'] == 5]\n",
        "X_test_neg_std = X_test_std[X_test['Rating'] == 1]"
      ]
    },
    {
      "cell_type": "markdown",
      "id": "275f53d9",
      "metadata": {
        "id": "275f53d9"
      },
      "source": [
        "### Train Model"
      ]
    },
    {
      "cell_type": "markdown",
      "id": "9b7dfcfa",
      "metadata": {
        "id": "9b7dfcfa"
      },
      "source": [
        "#### 1) Random Forest"
      ]
    },
    {
      "cell_type": "code",
      "execution_count": 18,
      "id": "409eac2f",
      "metadata": {
        "colab": {
          "base_uri": "https://localhost:8080/"
        },
        "id": "409eac2f",
        "outputId": "62309ea4-954c-4b1e-bcb8-d55d09e394e2"
      },
      "outputs": [
        {
          "output_type": "execute_result",
          "data": {
            "text/plain": [
              "RandomForestClassifier(random_state=0)"
            ]
          },
          "metadata": {},
          "execution_count": 18
        }
      ],
      "source": [
        "rf_model = RandomForestClassifier(random_state=0)\n",
        "rf_model.fit(X_train, y_train)"
      ]
    },
    {
      "cell_type": "code",
      "execution_count": 19,
      "id": "c45a69bd",
      "metadata": {
        "colab": {
          "base_uri": "https://localhost:8080/"
        },
        "id": "c45a69bd",
        "outputId": "191ec6ea-65c9-433a-cc9d-70eeb0e27900",
        "scrolled": true
      },
      "outputs": [
        {
          "output_type": "stream",
          "name": "stdout",
          "text": [
            "Fitting 5 folds for each of 36 candidates, totalling 180 fits\n",
            "[CV] END max_depth=20, max_features=5, max_samples=100, n_estimators=100; total time=   0.2s\n",
            "[CV] END max_depth=20, max_features=5, max_samples=100, n_estimators=100; total time=   0.2s\n",
            "[CV] END max_depth=20, max_features=5, max_samples=100, n_estimators=100; total time=   0.2s\n",
            "[CV] END max_depth=20, max_features=5, max_samples=100, n_estimators=100; total time=   0.2s\n",
            "[CV] END max_depth=20, max_features=5, max_samples=100, n_estimators=100; total time=   0.2s\n",
            "[CV] END max_depth=20, max_features=5, max_samples=100, n_estimators=500; total time=   0.9s\n",
            "[CV] END max_depth=20, max_features=5, max_samples=100, n_estimators=500; total time=   0.8s\n",
            "[CV] END max_depth=20, max_features=5, max_samples=100, n_estimators=500; total time=   0.9s\n",
            "[CV] END max_depth=20, max_features=5, max_samples=100, n_estimators=500; total time=   0.9s\n",
            "[CV] END max_depth=20, max_features=5, max_samples=100, n_estimators=500; total time=   0.9s\n",
            "[CV] END max_depth=20, max_features=5, max_samples=500, n_estimators=100; total time=   0.2s\n",
            "[CV] END max_depth=20, max_features=5, max_samples=500, n_estimators=100; total time=   0.2s\n",
            "[CV] END max_depth=20, max_features=5, max_samples=500, n_estimators=100; total time=   0.2s\n",
            "[CV] END max_depth=20, max_features=5, max_samples=500, n_estimators=100; total time=   0.2s\n",
            "[CV] END max_depth=20, max_features=5, max_samples=500, n_estimators=100; total time=   0.2s\n",
            "[CV] END max_depth=20, max_features=5, max_samples=500, n_estimators=500; total time=   1.0s\n",
            "[CV] END max_depth=20, max_features=5, max_samples=500, n_estimators=500; total time=   1.0s\n",
            "[CV] END max_depth=20, max_features=5, max_samples=500, n_estimators=500; total time=   1.0s\n",
            "[CV] END max_depth=20, max_features=5, max_samples=500, n_estimators=500; total time=   1.0s\n",
            "[CV] END max_depth=20, max_features=5, max_samples=500, n_estimators=500; total time=   1.0s\n",
            "[CV] END max_depth=20, max_features=5, max_samples=None, n_estimators=100; total time=   0.3s\n",
            "[CV] END max_depth=20, max_features=5, max_samples=None, n_estimators=100; total time=   0.4s\n",
            "[CV] END max_depth=20, max_features=5, max_samples=None, n_estimators=100; total time=   0.2s\n",
            "[CV] END max_depth=20, max_features=5, max_samples=None, n_estimators=100; total time=   0.3s\n",
            "[CV] END max_depth=20, max_features=5, max_samples=None, n_estimators=100; total time=   0.3s\n",
            "[CV] END max_depth=20, max_features=5, max_samples=None, n_estimators=500; total time=   1.1s\n",
            "[CV] END max_depth=20, max_features=5, max_samples=None, n_estimators=500; total time=   1.1s\n",
            "[CV] END max_depth=20, max_features=5, max_samples=None, n_estimators=500; total time=   1.1s\n",
            "[CV] END max_depth=20, max_features=5, max_samples=None, n_estimators=500; total time=   1.1s\n",
            "[CV] END max_depth=20, max_features=5, max_samples=None, n_estimators=500; total time=   1.1s\n",
            "[CV] END max_depth=20, max_features=10, max_samples=100, n_estimators=100; total time=   0.2s\n",
            "[CV] END max_depth=20, max_features=10, max_samples=100, n_estimators=100; total time=   0.2s\n",
            "[CV] END max_depth=20, max_features=10, max_samples=100, n_estimators=100; total time=   0.2s\n",
            "[CV] END max_depth=20, max_features=10, max_samples=100, n_estimators=100; total time=   0.2s\n",
            "[CV] END max_depth=20, max_features=10, max_samples=100, n_estimators=100; total time=   0.2s\n",
            "[CV] END max_depth=20, max_features=10, max_samples=100, n_estimators=500; total time=   0.9s\n",
            "[CV] END max_depth=20, max_features=10, max_samples=100, n_estimators=500; total time=   0.9s\n",
            "[CV] END max_depth=20, max_features=10, max_samples=100, n_estimators=500; total time=   0.9s\n",
            "[CV] END max_depth=20, max_features=10, max_samples=100, n_estimators=500; total time=   0.9s\n",
            "[CV] END max_depth=20, max_features=10, max_samples=100, n_estimators=500; total time=   0.9s\n",
            "[CV] END max_depth=20, max_features=10, max_samples=500, n_estimators=100; total time=   0.3s\n",
            "[CV] END max_depth=20, max_features=10, max_samples=500, n_estimators=100; total time=   0.3s\n",
            "[CV] END max_depth=20, max_features=10, max_samples=500, n_estimators=100; total time=   0.3s\n",
            "[CV] END max_depth=20, max_features=10, max_samples=500, n_estimators=100; total time=   0.3s\n",
            "[CV] END max_depth=20, max_features=10, max_samples=500, n_estimators=100; total time=   0.2s\n",
            "[CV] END max_depth=20, max_features=10, max_samples=500, n_estimators=500; total time=   1.1s\n",
            "[CV] END max_depth=20, max_features=10, max_samples=500, n_estimators=500; total time=   1.1s\n",
            "[CV] END max_depth=20, max_features=10, max_samples=500, n_estimators=500; total time=   1.1s\n",
            "[CV] END max_depth=20, max_features=10, max_samples=500, n_estimators=500; total time=   1.1s\n",
            "[CV] END max_depth=20, max_features=10, max_samples=500, n_estimators=500; total time=   1.1s\n",
            "[CV] END max_depth=20, max_features=10, max_samples=None, n_estimators=100; total time=   0.3s\n",
            "[CV] END max_depth=20, max_features=10, max_samples=None, n_estimators=100; total time=   0.3s\n",
            "[CV] END max_depth=20, max_features=10, max_samples=None, n_estimators=100; total time=   0.3s\n",
            "[CV] END max_depth=20, max_features=10, max_samples=None, n_estimators=100; total time=   0.3s\n",
            "[CV] END max_depth=20, max_features=10, max_samples=None, n_estimators=100; total time=   0.3s\n",
            "[CV] END max_depth=20, max_features=10, max_samples=None, n_estimators=500; total time=   1.3s\n",
            "[CV] END max_depth=20, max_features=10, max_samples=None, n_estimators=500; total time=   1.3s\n",
            "[CV] END max_depth=20, max_features=10, max_samples=None, n_estimators=500; total time=   1.3s\n",
            "[CV] END max_depth=20, max_features=10, max_samples=None, n_estimators=500; total time=   1.3s\n",
            "[CV] END max_depth=20, max_features=10, max_samples=None, n_estimators=500; total time=   1.3s\n",
            "[CV] END max_depth=20, max_features=20, max_samples=100, n_estimators=100; total time=   0.2s\n",
            "[CV] END max_depth=20, max_features=20, max_samples=100, n_estimators=100; total time=   0.2s\n",
            "[CV] END max_depth=20, max_features=20, max_samples=100, n_estimators=100; total time=   0.2s\n",
            "[CV] END max_depth=20, max_features=20, max_samples=100, n_estimators=100; total time=   0.2s\n",
            "[CV] END max_depth=20, max_features=20, max_samples=100, n_estimators=100; total time=   0.4s\n",
            "[CV] END max_depth=20, max_features=20, max_samples=100, n_estimators=500; total time=   1.2s\n",
            "[CV] END max_depth=20, max_features=20, max_samples=100, n_estimators=500; total time=   1.2s\n",
            "[CV] END max_depth=20, max_features=20, max_samples=100, n_estimators=500; total time=   0.9s\n",
            "[CV] END max_depth=20, max_features=20, max_samples=100, n_estimators=500; total time=   1.0s\n",
            "[CV] END max_depth=20, max_features=20, max_samples=100, n_estimators=500; total time=   0.9s\n",
            "[CV] END max_depth=20, max_features=20, max_samples=500, n_estimators=100; total time=   0.3s\n",
            "[CV] END max_depth=20, max_features=20, max_samples=500, n_estimators=100; total time=   0.3s\n",
            "[CV] END max_depth=20, max_features=20, max_samples=500, n_estimators=100; total time=   0.3s\n",
            "[CV] END max_depth=20, max_features=20, max_samples=500, n_estimators=100; total time=   0.3s\n",
            "[CV] END max_depth=20, max_features=20, max_samples=500, n_estimators=100; total time=   0.3s\n",
            "[CV] END max_depth=20, max_features=20, max_samples=500, n_estimators=500; total time=   1.3s\n",
            "[CV] END max_depth=20, max_features=20, max_samples=500, n_estimators=500; total time=   1.3s\n",
            "[CV] END max_depth=20, max_features=20, max_samples=500, n_estimators=500; total time=   1.3s\n",
            "[CV] END max_depth=20, max_features=20, max_samples=500, n_estimators=500; total time=   1.3s\n",
            "[CV] END max_depth=20, max_features=20, max_samples=500, n_estimators=500; total time=   1.3s\n",
            "[CV] END max_depth=20, max_features=20, max_samples=None, n_estimators=100; total time=   0.3s\n",
            "[CV] END max_depth=20, max_features=20, max_samples=None, n_estimators=100; total time=   0.4s\n",
            "[CV] END max_depth=20, max_features=20, max_samples=None, n_estimators=100; total time=   0.3s\n",
            "[CV] END max_depth=20, max_features=20, max_samples=None, n_estimators=100; total time=   0.4s\n",
            "[CV] END max_depth=20, max_features=20, max_samples=None, n_estimators=100; total time=   0.3s\n",
            "[CV] END max_depth=20, max_features=20, max_samples=None, n_estimators=500; total time=   1.6s\n",
            "[CV] END max_depth=20, max_features=20, max_samples=None, n_estimators=500; total time=   1.6s\n",
            "[CV] END max_depth=20, max_features=20, max_samples=None, n_estimators=500; total time=   1.6s\n",
            "[CV] END max_depth=20, max_features=20, max_samples=None, n_estimators=500; total time=   1.6s\n",
            "[CV] END max_depth=20, max_features=20, max_samples=None, n_estimators=500; total time=   1.6s\n",
            "[CV] END max_depth=50, max_features=5, max_samples=100, n_estimators=100; total time=   0.2s\n",
            "[CV] END max_depth=50, max_features=5, max_samples=100, n_estimators=100; total time=   0.2s\n",
            "[CV] END max_depth=50, max_features=5, max_samples=100, n_estimators=100; total time=   0.2s\n",
            "[CV] END max_depth=50, max_features=5, max_samples=100, n_estimators=100; total time=   0.2s\n",
            "[CV] END max_depth=50, max_features=5, max_samples=100, n_estimators=100; total time=   0.2s\n",
            "[CV] END max_depth=50, max_features=5, max_samples=100, n_estimators=500; total time=   0.9s\n",
            "[CV] END max_depth=50, max_features=5, max_samples=100, n_estimators=500; total time=   0.9s\n",
            "[CV] END max_depth=50, max_features=5, max_samples=100, n_estimators=500; total time=   0.9s\n",
            "[CV] END max_depth=50, max_features=5, max_samples=100, n_estimators=500; total time=   0.9s\n",
            "[CV] END max_depth=50, max_features=5, max_samples=100, n_estimators=500; total time=   0.9s\n",
            "[CV] END max_depth=50, max_features=5, max_samples=500, n_estimators=100; total time=   0.3s\n",
            "[CV] END max_depth=50, max_features=5, max_samples=500, n_estimators=100; total time=   0.3s\n",
            "[CV] END max_depth=50, max_features=5, max_samples=500, n_estimators=100; total time=   0.3s\n",
            "[CV] END max_depth=50, max_features=5, max_samples=500, n_estimators=100; total time=   0.3s\n",
            "[CV] END max_depth=50, max_features=5, max_samples=500, n_estimators=100; total time=   0.3s\n",
            "[CV] END max_depth=50, max_features=5, max_samples=500, n_estimators=500; total time=   1.2s\n",
            "[CV] END max_depth=50, max_features=5, max_samples=500, n_estimators=500; total time=   1.2s\n",
            "[CV] END max_depth=50, max_features=5, max_samples=500, n_estimators=500; total time=   1.2s\n",
            "[CV] END max_depth=50, max_features=5, max_samples=500, n_estimators=500; total time=   1.2s\n",
            "[CV] END max_depth=50, max_features=5, max_samples=500, n_estimators=500; total time=   1.1s\n",
            "[CV] END max_depth=50, max_features=5, max_samples=None, n_estimators=100; total time=   0.3s\n",
            "[CV] END max_depth=50, max_features=5, max_samples=None, n_estimators=100; total time=   0.3s\n",
            "[CV] END max_depth=50, max_features=5, max_samples=None, n_estimators=100; total time=   0.3s\n",
            "[CV] END max_depth=50, max_features=5, max_samples=None, n_estimators=100; total time=   0.3s\n",
            "[CV] END max_depth=50, max_features=5, max_samples=None, n_estimators=100; total time=   0.3s\n",
            "[CV] END max_depth=50, max_features=5, max_samples=None, n_estimators=500; total time=   1.4s\n",
            "[CV] END max_depth=50, max_features=5, max_samples=None, n_estimators=500; total time=   1.3s\n",
            "[CV] END max_depth=50, max_features=5, max_samples=None, n_estimators=500; total time=   1.4s\n",
            "[CV] END max_depth=50, max_features=5, max_samples=None, n_estimators=500; total time=   1.4s\n",
            "[CV] END max_depth=50, max_features=5, max_samples=None, n_estimators=500; total time=   1.3s\n",
            "[CV] END max_depth=50, max_features=10, max_samples=100, n_estimators=100; total time=   0.2s\n",
            "[CV] END max_depth=50, max_features=10, max_samples=100, n_estimators=100; total time=   0.2s\n",
            "[CV] END max_depth=50, max_features=10, max_samples=100, n_estimators=100; total time=   0.2s\n",
            "[CV] END max_depth=50, max_features=10, max_samples=100, n_estimators=100; total time=   0.2s\n",
            "[CV] END max_depth=50, max_features=10, max_samples=100, n_estimators=100; total time=   0.2s\n",
            "[CV] END max_depth=50, max_features=10, max_samples=100, n_estimators=500; total time=   0.9s\n",
            "[CV] END max_depth=50, max_features=10, max_samples=100, n_estimators=500; total time=   0.9s\n",
            "[CV] END max_depth=50, max_features=10, max_samples=100, n_estimators=500; total time=   0.9s\n",
            "[CV] END max_depth=50, max_features=10, max_samples=100, n_estimators=500; total time=   0.9s\n",
            "[CV] END max_depth=50, max_features=10, max_samples=100, n_estimators=500; total time=   0.9s\n",
            "[CV] END max_depth=50, max_features=10, max_samples=500, n_estimators=100; total time=   0.3s\n",
            "[CV] END max_depth=50, max_features=10, max_samples=500, n_estimators=100; total time=   0.3s\n",
            "[CV] END max_depth=50, max_features=10, max_samples=500, n_estimators=100; total time=   0.3s\n",
            "[CV] END max_depth=50, max_features=10, max_samples=500, n_estimators=100; total time=   0.3s\n",
            "[CV] END max_depth=50, max_features=10, max_samples=500, n_estimators=100; total time=   0.3s\n",
            "[CV] END max_depth=50, max_features=10, max_samples=500, n_estimators=500; total time=   1.3s\n",
            "[CV] END max_depth=50, max_features=10, max_samples=500, n_estimators=500; total time=   1.3s\n",
            "[CV] END max_depth=50, max_features=10, max_samples=500, n_estimators=500; total time=   1.3s\n",
            "[CV] END max_depth=50, max_features=10, max_samples=500, n_estimators=500; total time=   1.3s\n",
            "[CV] END max_depth=50, max_features=10, max_samples=500, n_estimators=500; total time=   1.2s\n",
            "[CV] END max_depth=50, max_features=10, max_samples=None, n_estimators=100; total time=   0.3s\n",
            "[CV] END max_depth=50, max_features=10, max_samples=None, n_estimators=100; total time=   0.3s\n",
            "[CV] END max_depth=50, max_features=10, max_samples=None, n_estimators=100; total time=   0.3s\n",
            "[CV] END max_depth=50, max_features=10, max_samples=None, n_estimators=100; total time=   0.3s\n",
            "[CV] END max_depth=50, max_features=10, max_samples=None, n_estimators=100; total time=   0.3s\n",
            "[CV] END max_depth=50, max_features=10, max_samples=None, n_estimators=500; total time=   1.5s\n",
            "[CV] END max_depth=50, max_features=10, max_samples=None, n_estimators=500; total time=   1.6s\n",
            "[CV] END max_depth=50, max_features=10, max_samples=None, n_estimators=500; total time=   1.5s\n",
            "[CV] END max_depth=50, max_features=10, max_samples=None, n_estimators=500; total time=   1.5s\n",
            "[CV] END max_depth=50, max_features=10, max_samples=None, n_estimators=500; total time=   1.6s\n",
            "[CV] END max_depth=50, max_features=20, max_samples=100, n_estimators=100; total time=   0.2s\n",
            "[CV] END max_depth=50, max_features=20, max_samples=100, n_estimators=100; total time=   0.2s\n",
            "[CV] END max_depth=50, max_features=20, max_samples=100, n_estimators=100; total time=   0.2s\n",
            "[CV] END max_depth=50, max_features=20, max_samples=100, n_estimators=100; total time=   0.2s\n",
            "[CV] END max_depth=50, max_features=20, max_samples=100, n_estimators=100; total time=   0.2s\n",
            "[CV] END max_depth=50, max_features=20, max_samples=100, n_estimators=500; total time=   0.9s\n",
            "[CV] END max_depth=50, max_features=20, max_samples=100, n_estimators=500; total time=   1.0s\n",
            "[CV] END max_depth=50, max_features=20, max_samples=100, n_estimators=500; total time=   1.0s\n",
            "[CV] END max_depth=50, max_features=20, max_samples=100, n_estimators=500; total time=   0.9s\n",
            "[CV] END max_depth=50, max_features=20, max_samples=100, n_estimators=500; total time=   0.9s\n",
            "[CV] END max_depth=50, max_features=20, max_samples=500, n_estimators=100; total time=   0.3s\n",
            "[CV] END max_depth=50, max_features=20, max_samples=500, n_estimators=100; total time=   0.3s\n",
            "[CV] END max_depth=50, max_features=20, max_samples=500, n_estimators=100; total time=   0.3s\n",
            "[CV] END max_depth=50, max_features=20, max_samples=500, n_estimators=100; total time=   0.3s\n",
            "[CV] END max_depth=50, max_features=20, max_samples=500, n_estimators=100; total time=   0.3s\n",
            "[CV] END max_depth=50, max_features=20, max_samples=500, n_estimators=500; total time=   1.4s\n",
            "[CV] END max_depth=50, max_features=20, max_samples=500, n_estimators=500; total time=   1.5s\n",
            "[CV] END max_depth=50, max_features=20, max_samples=500, n_estimators=500; total time=   1.4s\n",
            "[CV] END max_depth=50, max_features=20, max_samples=500, n_estimators=500; total time=   1.4s\n",
            "[CV] END max_depth=50, max_features=20, max_samples=500, n_estimators=500; total time=   1.4s\n",
            "[CV] END max_depth=50, max_features=20, max_samples=None, n_estimators=100; total time=   0.4s\n",
            "[CV] END max_depth=50, max_features=20, max_samples=None, n_estimators=100; total time=   0.4s\n",
            "[CV] END max_depth=50, max_features=20, max_samples=None, n_estimators=100; total time=   0.4s\n",
            "[CV] END max_depth=50, max_features=20, max_samples=None, n_estimators=100; total time=   0.4s\n",
            "[CV] END max_depth=50, max_features=20, max_samples=None, n_estimators=100; total time=   0.4s\n",
            "[CV] END max_depth=50, max_features=20, max_samples=None, n_estimators=500; total time=   1.9s\n",
            "[CV] END max_depth=50, max_features=20, max_samples=None, n_estimators=500; total time=   1.9s\n",
            "[CV] END max_depth=50, max_features=20, max_samples=None, n_estimators=500; total time=   1.9s\n",
            "[CV] END max_depth=50, max_features=20, max_samples=None, n_estimators=500; total time=   1.9s\n",
            "[CV] END max_depth=50, max_features=20, max_samples=None, n_estimators=500; total time=   1.9s\n",
            "Best Parameters:  {'max_depth': 50, 'max_features': 5, 'max_samples': 500, 'n_estimators': 500}\n",
            "Score 0.8484375\n"
          ]
        }
      ],
      "source": [
        "rf_model = RandomForestClassifier(criterion='gini', random_state=0)\n",
        "parameters = {'n_estimators': [100, 500],\n",
        "              'max_features': [5, 10, 20],\n",
        "              'max_depth': [20, 50],\n",
        "              'max_samples': [100, 500, None]}\n",
        "grid_search = GridSearchCV(rf_model, param_grid=parameters, cv=5, scoring='accuracy', verbose=2)\n",
        "grid_search.fit(X_train, y_train)\n",
        "print('Best Parameters: ', grid_search.best_params_)\n",
        "print('Score', grid_search.best_score_)"
      ]
    },
    {
      "cell_type": "code",
      "execution_count": 20,
      "id": "19464cca",
      "metadata": {
        "colab": {
          "base_uri": "https://localhost:8080/"
        },
        "id": "19464cca",
        "outputId": "43e456a7-8fc0-4696-f6a6-2e7bddc9747f",
        "scrolled": true
      },
      "outputs": [
        {
          "output_type": "stream",
          "name": "stdout",
          "text": [
            "Random Forest Model Performance:\n",
            "- Test Accuracy:  89.1%\n",
            "- Test Precision Score:  84.9%\n",
            "- Test Recall Score:  94.2%\n",
            "- Test F1 Score:  89.3%\n",
            "- Test AUC-ROC Score:  89.2%\n"
          ]
        }
      ],
      "source": [
        "rf_model = RandomForestClassifier(random_state=0, \n",
        "                                  criterion='gini', \n",
        "                                  max_depth=20, \n",
        "                                  max_features=5, \n",
        "                                  max_samples=None, \n",
        "                                  n_estimators=500)\n",
        "rf_model.fit(X_train, y_train)\n",
        "y_pred = rf_model.predict(X_test)\n",
        "\n",
        "print('Random Forest Model Performance:')\n",
        "print('- Test Accuracy: ', \"{:.1%}\".format(accuracy_score(y_test, y_pred)))\n",
        "print('- Test Precision Score: ', \"{:.1%}\".format(precision_score(y_test, y_pred)))\n",
        "print('- Test Recall Score: ', \"{:.1%}\".format(recall_score(y_test, y_pred)))\n",
        "print('- Test F1 Score: ', \"{:.1%}\".format(f1_score(y_test, y_pred)))\n",
        "print('- Test AUC-ROC Score: ', \"{:.1%}\".format(roc_auc_score(y_test, y_pred)))"
      ]
    },
    {
      "cell_type": "code",
      "execution_count": 21,
      "id": "zUVDGc9TrskY",
      "metadata": {
        "colab": {
          "base_uri": "https://localhost:8080/",
          "height": 279
        },
        "id": "zUVDGc9TrskY",
        "outputId": "73cacb00-b6a7-456c-c847-0eb1c0347752"
      },
      "outputs": [
        {
          "output_type": "display_data",
          "data": {
            "text/plain": [
              "<Figure size 432x288 with 1 Axes>"
            ],
            "image/png": "[encoded data removed]"
          },
          "metadata": {
            "needs_background": "light"
          }
        }
      ],
      "source": [
        "y_pred_prob = np.array(rf_model.predict_proba(X_test))[:,1]\n",
        "y_test_labels = np.array(y_test)\n",
        "\n",
        "fpr, tpr, _ = roc_curve(y_test_labels, y_pred_prob)\n",
        "plt.plot(fpr,tpr)\n",
        "plt.ylabel('True Positive Rate')\n",
        "plt.xlabel('False Positive Rate')\n",
        "plt.show()"
      ]
    },
    {
      "cell_type": "markdown",
      "id": "8426435f",
      "metadata": {
        "id": "8426435f"
      },
      "source": [
        "#### 2) PCA + SVM"
      ]
    },
    {
      "cell_type": "code",
      "execution_count": 22,
      "id": "a86548dd",
      "metadata": {
        "colab": {
          "base_uri": "https://localhost:8080/"
        },
        "id": "a86548dd",
        "outputId": "df942588-f9d9-40e6-a141-fa7646236c42"
      },
      "outputs": [
        {
          "output_type": "stream",
          "name": "stdout",
          "text": [
            "Best Parameters:  {'pca__n_components': 651, 'svm__C': 4}\n",
            "Score 0.84296875\n"
          ]
        }
      ],
      "source": [
        "pca = PCA()\n",
        "svm_model = SVC()\n",
        "pipeline = Pipeline(steps=[('pca', pca), ('svm', svm_model)])\n",
        "parameters = {'svm__C': [3, 4], 'pca__n_components': list(range(1, 1001, 50))}\n",
        "grid_search = GridSearchCV(pipeline, param_grid=parameters, cv=5, scoring='accuracy')\n",
        "grid_search.fit(X_train_std, y_train)\n",
        "print('Best Parameters: ', grid_search.best_params_)\n",
        "print('Score', grid_search.best_score_)"
      ]
    },
    {
      "cell_type": "code",
      "execution_count": 23,
      "id": "e4aed81c",
      "metadata": {
        "colab": {
          "base_uri": "https://localhost:8080/"
        },
        "id": "e4aed81c",
        "outputId": "c4f47d09-71d5-482b-8a60-0cce2ddb6269"
      },
      "outputs": [
        {
          "output_type": "stream",
          "name": "stdout",
          "text": [
            "SVM Performance\n",
            "- Train Overall Accuracy:  99.6%\n",
            "- Test Overall Accuracy:  84.7%\n",
            "- Test Positive Accuracy:  85.4%\n",
            "- Test Negative Accuracy:  84.0%\n"
          ]
        }
      ],
      "source": [
        "pca = PCA(n_components=601)\n",
        "X_train_pca = pca.fit_transform(X_train_std)\n",
        "X_test_pca = pca.transform(X_test_std)\n",
        "X_test_pos_pca = pca.transform(X_test_pos_std)\n",
        "X_test_neg_pca = pca.transform(X_test_neg_std)\n",
        "\n",
        "svm_model = SVC(C=3)\n",
        "svm_model.fit(X_train_pca, y_train)\n",
        "print('SVM Performance')\n",
        "print('- Train Overall Accuracy: ', \"{:.1%}\".format(svm_model.score(X_train_pca, y_train)))\n",
        "print('- Test Overall Accuracy: ', \"{:.1%}\".format(svm_model.score(X_test_pca, y_test)))\n",
        "print('- Test Positive Accuracy: ', \"{:.1%}\".format(svm_model.score(X_test_pos_pca, y_test_pos)))\n",
        "print('- Test Negative Accuracy: ', \"{:.1%}\".format(svm_model.score(X_test_neg_pca, y_test_neg)))"
      ]
    },
    {
      "cell_type": "code",
      "execution_count": 24,
      "id": "l9kcQe8rH6CF",
      "metadata": {
        "colab": {
          "base_uri": "https://localhost:8080/"
        },
        "id": "l9kcQe8rH6CF",
        "outputId": "60cfbc46-f434-46d0-a34b-f6beeafcc4e2"
      },
      "outputs": [
        {
          "output_type": "stream",
          "name": "stdout",
          "text": [
            "SVM Model Test Data Performance\n",
            "- Test Accuracy:  84.7%\n",
            "- Test Precision Score:  82.3%\n",
            "- Test Recall Score:  87.1%\n",
            "- Test F1 Score:  84.6%\n",
            "- Test AUC-ROC Score:  84.8%\n"
          ]
        }
      ],
      "source": [
        "y_pred_test = svm_model.predict(X_test_pca)\n",
        "\n",
        "print('SVM Model Test Data Performance')\n",
        "print('- Test Accuracy: ', \"{:.1%}\".format(accuracy_score(y_test, y_pred_test)))\n",
        "print('- Test Precision Score: ', \"{:.1%}\".format(precision_score(y_test, y_pred_test)))\n",
        "print('- Test Recall Score: ', \"{:.1%}\".format(recall_score(y_test, y_pred_test)))\n",
        "print('- Test F1 Score: ', \"{:.1%}\".format(f1_score(y_test, y_pred_test,)))\n",
        "print('- Test AUC-ROC Score: ', \"{:.1%}\".format(roc_auc_score(y_test, y_pred_test)))"
      ]
    },
    {
      "cell_type": "code",
      "execution_count": 25,
      "id": "3uvPVcsfvDe9",
      "metadata": {
        "colab": {
          "base_uri": "https://localhost:8080/",
          "height": 279
        },
        "id": "3uvPVcsfvDe9",
        "outputId": "01943371-3d46-4959-b912-ca1d67e8aa86"
      },
      "outputs": [
        {
          "output_type": "display_data",
          "data": {
            "text/plain": [
              "<Figure size 432x288 with 1 Axes>"
            ],
            "image/png": "[encoded data removed]"
          },
          "metadata": {
            "needs_background": "light"
          }
        }
      ],
      "source": [
        "svm_model_prob = SVC(C=3, gamma='auto', probability=True)\n",
        "svm_model_prob.fit(X_train_pca, y_train)\n",
        "\n",
        "y_pred_prob = np.array(svm_model_prob.predict_proba(X_test_pca))[:,1]\n",
        "y_test_labels = np.array(y_test)\n",
        "\n",
        "fpr, tpr, _ = roc_curve(y_test_labels, y_pred_prob)\n",
        "plt.plot(fpr,tpr)\n",
        "plt.ylabel('True Positive Rate')\n",
        "plt.xlabel('False Positive Rate')\n",
        "plt.show()"
      ]
    }
  ],
  "metadata": {
    "colab": {
      "provenance": []
    },
    "kernelspec": {
      "display_name": "Python 3.9.12 ('base')",
      "language": "python",
      "name": "python3"
    },
    "language_info": {
      "codemirror_mode": {
        "name": "ipython",
        "version": 3
      },
      "file_extension": ".py",
      "mimetype": "text/x-python",
      "name": "python",
      "nbconvert_exporter": "python",
      "pygments_lexer": "ipython3",
      "version": "3.9.12"
    },
    "vscode": {
      "interpreter": {
        "hash": "2b32675aa610a2a5db7c4c2427e88756c8d71e8897b52c5f975df15fb74ea7a4"
      }
    }
  },
  "nbformat": 4,
  "nbformat_minor": 5
}