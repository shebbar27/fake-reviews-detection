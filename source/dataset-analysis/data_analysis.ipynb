{
  "cells": [
    {
      "cell_type": "code",
      "execution_count": 1,
      "id": "787c4327",
      "metadata": {
        "id": "787c4327"
      },
      "outputs": [],
      "source": [
        "%load_ext autoreload\n",
        "%autoreload 2"
      ]
    },
    {
      "cell_type": "code",
      "execution_count": 2,
      "id": "158a2797",
      "metadata": {
        "id": "158a2797",
        "colab": {
          "base_uri": "https://localhost:8080/"
        },
        "outputId": "a448adbd-4029-4bab-afab-10f82de38aa2"
      },
      "outputs": [
        {
          "output_type": "stream",
          "name": "stderr",
          "text": [
            "[nltk_data] Downloading package averaged_perceptron_tagger to\n",
            "[nltk_data]     /root/nltk_data...\n",
            "[nltk_data]   Unzipping taggers/averaged_perceptron_tagger.zip.\n",
            "[nltk_data] Downloading package wordnet to /root/nltk_data...\n",
            "[nltk_data] Downloading package omw-1.4 to /root/nltk_data...\n",
            "[nltk_data] Downloading package stopwords to /root/nltk_data...\n",
            "[nltk_data]   Unzipping corpora/stopwords.zip.\n"
          ]
        },
        {
          "output_type": "execute_result",
          "data": {
            "text/plain": [
              "True"
            ]
          },
          "metadata": {},
          "execution_count": 2
        }
      ],
      "source": [
        "import numpy as np\n",
        "import pandas\n",
        "import random\n",
        "import seaborn as sns\n",
        "sns.set_theme()\n",
        "\n",
        "from matplotlib import pyplot as plt\n",
        "\n",
        "import nltk\n",
        "nltk.download('averaged_perceptron_tagger')\n",
        "nltk.download('wordnet')\n",
        "nltk.download('omw-1.4')\n",
        "nltk.download('stopwords')"
      ]
    },
    {
      "cell_type": "code",
      "execution_count": 3,
      "id": "w95CjpiHxXwJ",
      "metadata": {
        "colab": {
          "base_uri": "https://localhost:8080/"
        },
        "id": "w95CjpiHxXwJ",
        "outputId": "4c2ae5f5-8694-4950-b1a7-19ebc9e470d8"
      },
      "outputs": [
        {
          "output_type": "stream",
          "name": "stdout",
          "text": [
            "Mounted at /content/drive\n"
          ]
        }
      ],
      "source": [
        "from google.colab import drive\n",
        "drive.mount('/content/drive', force_remount=True)"
      ]
    },
    {
      "cell_type": "code",
      "execution_count": 4,
      "id": "T3X4z6MxxacD",
      "metadata": {
        "id": "T3X4z6MxxacD"
      },
      "outputs": [],
      "source": [
        "import sys\n",
        "sys.path.append('/content/drive/My Drive/Colab Notebooks/fake-reviews-detection/source/common/')"
      ]
    },
    {
      "cell_type": "code",
      "execution_count": 5,
      "id": "1ce6b973",
      "metadata": {
        "id": "1ce6b973"
      },
      "outputs": [],
      "source": [
        "import data_preprocessing\n",
        "import ngram\n",
        "import linguistic_feature"
      ]
    },
    {
      "cell_type": "code",
      "execution_count": 6,
      "id": "45ec3c3d",
      "metadata": {
        "colab": {
          "base_uri": "https://localhost:8080/",
          "height": 206
        },
        "id": "45ec3c3d",
        "outputId": "150e2ed8-1d9b-444d-c755-485b71ab2fa6"
      },
      "outputs": [
        {
          "output_type": "display_data",
          "data": {
            "text/plain": [
              "   Label  Rating                                         Ori_Review\n",
              "0      1       1  For 250 dollars, cheapest room available at th...\n",
              "1      1       1  Me and my business associate had a job in Chic...\n",
              "2      1       1  My stay at the Hyatt Regency was an experience...\n",
              "3      1       1  Upon first inspection, Sofitel Chicago Water T...\n",
              "4      1       1  I wish to express my dissatisfaction with my s..."
            ],
            "text/html": [
              "\n",
              "  <div id=\"df-55811c03-eff6-4ce4-bccd-a320699e7a14\">\n",
              "    <div class=\"colab-df-container\">\n",
              "      <div>\n",
              "<style scoped>\n",
              "    .dataframe tbody tr th:only-of-type {\n",
              "        vertical-align: middle;\n",
              "    }\n",
              "\n",
              "    .dataframe tbody tr th {\n",
              "        vertical-align: top;\n",
              "    }\n",
              "\n",
              "    .dataframe thead th {\n",
              "        text-align: right;\n",
              "    }\n",
              "</style>\n",
              "<table border=\"1\" class=\"dataframe\">\n",
              "  <thead>\n",
              "    <tr style=\"text-align: right;\">\n",
              "      <th></th>\n",
              "      <th>Label</th>\n",
              "      <th>Rating</th>\n",
              "      <th>Ori_Review</th>\n",
              "    </tr>\n",
              "  </thead>\n",
              "  <tbody>\n",
              "    <tr>\n",
              "      <th>0</th>\n",
              "      <td>1</td>\n",
              "      <td>1</td>\n",
              "      <td>For 250 dollars, cheapest room available at th...</td>\n",
              "    </tr>\n",
              "    <tr>\n",
              "      <th>1</th>\n",
              "      <td>1</td>\n",
              "      <td>1</td>\n",
              "      <td>Me and my business associate had a job in Chic...</td>\n",
              "    </tr>\n",
              "    <tr>\n",
              "      <th>2</th>\n",
              "      <td>1</td>\n",
              "      <td>1</td>\n",
              "      <td>My stay at the Hyatt Regency was an experience...</td>\n",
              "    </tr>\n",
              "    <tr>\n",
              "      <th>3</th>\n",
              "      <td>1</td>\n",
              "      <td>1</td>\n",
              "      <td>Upon first inspection, Sofitel Chicago Water T...</td>\n",
              "    </tr>\n",
              "    <tr>\n",
              "      <th>4</th>\n",
              "      <td>1</td>\n",
              "      <td>1</td>\n",
              "      <td>I wish to express my dissatisfaction with my s...</td>\n",
              "    </tr>\n",
              "  </tbody>\n",
              "</table>\n",
              "</div>\n",
              "      <button class=\"colab-df-convert\" onclick=\"convertToInteractive('df-55811c03-eff6-4ce4-bccd-a320699e7a14')\"\n",
              "              title=\"Convert this dataframe to an interactive table.\"\n",
              "              style=\"display:none;\">\n",
              "        \n",
              "  <svg xmlns=\"http://www.w3.org/2000/svg\" height=\"24px\"viewBox=\"0 0 24 24\"\n",
              "       width=\"24px\">\n",
              "    <path d=\"M0 0h24v24H0V0z\" fill=\"none\"/>\n",
              "    <path d=\"M18.56 5.44l.94 2.06.94-2.06 2.06-.94-2.06-.94-.94-2.06-.94 2.06-2.06.94zm-11 1L8.5 8.5l.94-2.06 2.06-.94-2.06-.94L8.5 2.5l-.94 2.06-2.06.94zm10 10l.94 2.06.94-2.06 2.06-.94-2.06-.94-.94-2.06-.94 2.06-2.06.94z\"/><path d=\"M17.41 7.96l-1.37-1.37c-.4-.4-.92-.59-1.43-.59-.52 0-1.04.2-1.43.59L10.3 9.45l-7.72 7.72c-.78.78-.78 2.05 0 2.83L4 21.41c.39.39.9.59 1.41.59.51 0 1.02-.2 1.41-.59l7.78-7.78 2.81-2.81c.8-.78.8-2.07 0-2.86zM5.41 20L4 18.59l7.72-7.72 1.47 1.35L5.41 20z\"/>\n",
              "  </svg>\n",
              "      </button>\n",
              "      \n",
              "  <style>\n",
              "    .colab-df-container {\n",
              "      display:flex;\n",
              "      flex-wrap:wrap;\n",
              "      gap: 12px;\n",
              "    }\n",
              "\n",
              "    .colab-df-convert {\n",
              "      background-color: #E8F0FE;\n",
              "      border: none;\n",
              "      border-radius: 50%;\n",
              "      cursor: pointer;\n",
              "      display: none;\n",
              "      fill: #1967D2;\n",
              "      height: 32px;\n",
              "      padding: 0 0 0 0;\n",
              "      width: 32px;\n",
              "    }\n",
              "\n",
              "    .colab-df-convert:hover {\n",
              "      background-color: #E2EBFA;\n",
              "      box-shadow: 0px 1px 2px rgba(60, 64, 67, 0.3), 0px 1px 3px 1px rgba(60, 64, 67, 0.15);\n",
              "      fill: #174EA6;\n",
              "    }\n",
              "\n",
              "    [theme=dark] .colab-df-convert {\n",
              "      background-color: #3B4455;\n",
              "      fill: #D2E3FC;\n",
              "    }\n",
              "\n",
              "    [theme=dark] .colab-df-convert:hover {\n",
              "      background-color: #434B5C;\n",
              "      box-shadow: 0px 1px 3px 1px rgba(0, 0, 0, 0.15);\n",
              "      filter: drop-shadow(0px 1px 2px rgba(0, 0, 0, 0.3));\n",
              "      fill: #FFFFFF;\n",
              "    }\n",
              "  </style>\n",
              "\n",
              "      <script>\n",
              "        const buttonEl =\n",
              "          document.querySelector('#df-55811c03-eff6-4ce4-bccd-a320699e7a14 button.colab-df-convert');\n",
              "        buttonEl.style.display =\n",
              "          google.colab.kernel.accessAllowed ? 'block' : 'none';\n",
              "\n",
              "        async function convertToInteractive(key) {\n",
              "          const element = document.querySelector('#df-55811c03-eff6-4ce4-bccd-a320699e7a14');\n",
              "          const dataTable =\n",
              "            await google.colab.kernel.invokeFunction('convertToInteractive',\n",
              "                                                     [key], {});\n",
              "          if (!dataTable) return;\n",
              "\n",
              "          const docLinkHtml = 'Like what you see? Visit the ' +\n",
              "            '<a target=\"_blank\" href=https://colab.research.google.com/notebooks/data_table.ipynb>data table notebook</a>'\n",
              "            + ' to learn more about interactive tables.';\n",
              "          element.innerHTML = '';\n",
              "          dataTable['output_type'] = 'display_data';\n",
              "          await google.colab.output.renderOutput(dataTable, element);\n",
              "          const docLink = document.createElement('div');\n",
              "          docLink.innerHTML = docLinkHtml;\n",
              "          element.appendChild(docLink);\n",
              "        }\n",
              "      </script>\n",
              "    </div>\n",
              "  </div>\n",
              "  "
            ]
          },
          "metadata": {}
        }
      ],
      "source": [
        "root_dir = \"/content/drive/My Drive/Colab Notebooks/fake-reviews-detection\"\n",
        "df = data_preprocessing.import_raw_data(root_dir)\n",
        "display(df[:5])"
      ]
    },
    {
      "cell_type": "code",
      "execution_count": 7,
      "id": "6338d1d5",
      "metadata": {
        "colab": {
          "base_uri": "https://localhost:8080/",
          "height": 424
        },
        "id": "6338d1d5",
        "outputId": "06b34886-c120-4c4f-fed4-cc7c4c509dab"
      },
      "outputs": [
        {
          "output_type": "execute_result",
          "data": {
            "text/plain": [
              "   Label  Rating                                         Ori_Review  \\\n",
              "0      1       1  For 250 dollars, cheapest room available at th...   \n",
              "1      1       1  Me and my business associate had a job in Chic...   \n",
              "2      1       1  My stay at the Hyatt Regency was an experience...   \n",
              "3      1       1  Upon first inspection, Sofitel Chicago Water T...   \n",
              "4      1       1  I wish to express my dissatisfaction with my s...   \n",
              "\n",
              "                                        Clean_Review  \\\n",
              "0  for dollar cheap room available at the hard ro...   \n",
              "1  me and my business associate have a job in chi...   \n",
              "2  my stay at the hyatt regency be an experience ...   \n",
              "3  upon first inspection sofitel chicago water to...   \n",
              "4  i wish to express my dissatisfaction with my s...   \n",
              "\n",
              "                                           PP_Review  \\\n",
              "0  dollar cheap available hard rock assume access...   \n",
              "1  business associate job want somewhere feature ...   \n",
              "2  hyatt regency experience never ever forget goo...   \n",
              "3  upon first inspection sofitel water tower look...   \n",
              "4  wish express dissatisfaction sofitel water tow...   \n",
              "\n",
              "                                           Word_List  \\\n",
              "0  [dollar, cheap, available, hard, rock, assume,...   \n",
              "1  [business, associate, job, want, somewhere, fe...   \n",
              "2  [hyatt, regency, experience, never, ever, forg...   \n",
              "3  [upon, first, inspection, sofitel, water, towe...   \n",
              "4  [wish, express, dissatisfaction, sofitel, wate...   \n",
              "\n",
              "                                       Word_List_all  num_word  num_coreword  \\\n",
              "0  [for, 250, dollar, cheap, room, available, at,...        68            24   \n",
              "1  [me, and, my, business, associate, have, a, jo...       104            41   \n",
              "2  [my, stay, at, the, hyatt, regency, be, an, ex...       264           116   \n",
              "3  [upon, first, inspection, sofitel, chicago, wa...       135            65   \n",
              "4  [i, wish, to, express, my, dissatisfaction, wi...       227            87   \n",
              "\n",
              "   num_stopword  num_char  char_per_word  num_first_sing  num_first_pru  \\\n",
              "0            44       357       5.250000               4              0   \n",
              "1            63       544       5.230769               2              8   \n",
              "2           148      1265       4.791667              22              0   \n",
              "3            70       738       5.466667               1              0   \n",
              "4           140      1222       5.383260              16             10   \n",
              "\n",
              "   num_third  \n",
              "0          1  \n",
              "1          0  \n",
              "2          5  \n",
              "3          1  \n",
              "4          4  "
            ],
            "text/html": [
              "\n",
              "  <div id=\"df-2034e587-4168-4c08-8296-984f043a3581\">\n",
              "    <div class=\"colab-df-container\">\n",
              "      <div>\n",
              "<style scoped>\n",
              "    .dataframe tbody tr th:only-of-type {\n",
              "        vertical-align: middle;\n",
              "    }\n",
              "\n",
              "    .dataframe tbody tr th {\n",
              "        vertical-align: top;\n",
              "    }\n",
              "\n",
              "    .dataframe thead th {\n",
              "        text-align: right;\n",
              "    }\n",
              "</style>\n",
              "<table border=\"1\" class=\"dataframe\">\n",
              "  <thead>\n",
              "    <tr style=\"text-align: right;\">\n",
              "      <th></th>\n",
              "      <th>Label</th>\n",
              "      <th>Rating</th>\n",
              "      <th>Ori_Review</th>\n",
              "      <th>Clean_Review</th>\n",
              "      <th>PP_Review</th>\n",
              "      <th>Word_List</th>\n",
              "      <th>Word_List_all</th>\n",
              "      <th>num_word</th>\n",
              "      <th>num_coreword</th>\n",
              "      <th>num_stopword</th>\n",
              "      <th>num_char</th>\n",
              "      <th>char_per_word</th>\n",
              "      <th>num_first_sing</th>\n",
              "      <th>num_first_pru</th>\n",
              "      <th>num_third</th>\n",
              "    </tr>\n",
              "  </thead>\n",
              "  <tbody>\n",
              "    <tr>\n",
              "      <th>0</th>\n",
              "      <td>1</td>\n",
              "      <td>1</td>\n",
              "      <td>For 250 dollars, cheapest room available at th...</td>\n",
              "      <td>for dollar cheap room available at the hard ro...</td>\n",
              "      <td>dollar cheap available hard rock assume access...</td>\n",
              "      <td>[dollar, cheap, available, hard, rock, assume,...</td>\n",
              "      <td>[for, 250, dollar, cheap, room, available, at,...</td>\n",
              "      <td>68</td>\n",
              "      <td>24</td>\n",
              "      <td>44</td>\n",
              "      <td>357</td>\n",
              "      <td>5.250000</td>\n",
              "      <td>4</td>\n",
              "      <td>0</td>\n",
              "      <td>1</td>\n",
              "    </tr>\n",
              "    <tr>\n",
              "      <th>1</th>\n",
              "      <td>1</td>\n",
              "      <td>1</td>\n",
              "      <td>Me and my business associate had a job in Chic...</td>\n",
              "      <td>me and my business associate have a job in chi...</td>\n",
              "      <td>business associate job want somewhere feature ...</td>\n",
              "      <td>[business, associate, job, want, somewhere, fe...</td>\n",
              "      <td>[me, and, my, business, associate, have, a, jo...</td>\n",
              "      <td>104</td>\n",
              "      <td>41</td>\n",
              "      <td>63</td>\n",
              "      <td>544</td>\n",
              "      <td>5.230769</td>\n",
              "      <td>2</td>\n",
              "      <td>8</td>\n",
              "      <td>0</td>\n",
              "    </tr>\n",
              "    <tr>\n",
              "      <th>2</th>\n",
              "      <td>1</td>\n",
              "      <td>1</td>\n",
              "      <td>My stay at the Hyatt Regency was an experience...</td>\n",
              "      <td>my stay at the hyatt regency be an experience ...</td>\n",
              "      <td>hyatt regency experience never ever forget goo...</td>\n",
              "      <td>[hyatt, regency, experience, never, ever, forg...</td>\n",
              "      <td>[my, stay, at, the, hyatt, regency, be, an, ex...</td>\n",
              "      <td>264</td>\n",
              "      <td>116</td>\n",
              "      <td>148</td>\n",
              "      <td>1265</td>\n",
              "      <td>4.791667</td>\n",
              "      <td>22</td>\n",
              "      <td>0</td>\n",
              "      <td>5</td>\n",
              "    </tr>\n",
              "    <tr>\n",
              "      <th>3</th>\n",
              "      <td>1</td>\n",
              "      <td>1</td>\n",
              "      <td>Upon first inspection, Sofitel Chicago Water T...</td>\n",
              "      <td>upon first inspection sofitel chicago water to...</td>\n",
              "      <td>upon first inspection sofitel water tower look...</td>\n",
              "      <td>[upon, first, inspection, sofitel, water, towe...</td>\n",
              "      <td>[upon, first, inspection, sofitel, chicago, wa...</td>\n",
              "      <td>135</td>\n",
              "      <td>65</td>\n",
              "      <td>70</td>\n",
              "      <td>738</td>\n",
              "      <td>5.466667</td>\n",
              "      <td>1</td>\n",
              "      <td>0</td>\n",
              "      <td>1</td>\n",
              "    </tr>\n",
              "    <tr>\n",
              "      <th>4</th>\n",
              "      <td>1</td>\n",
              "      <td>1</td>\n",
              "      <td>I wish to express my dissatisfaction with my s...</td>\n",
              "      <td>i wish to express my dissatisfaction with my s...</td>\n",
              "      <td>wish express dissatisfaction sofitel water tow...</td>\n",
              "      <td>[wish, express, dissatisfaction, sofitel, wate...</td>\n",
              "      <td>[i, wish, to, express, my, dissatisfaction, wi...</td>\n",
              "      <td>227</td>\n",
              "      <td>87</td>\n",
              "      <td>140</td>\n",
              "      <td>1222</td>\n",
              "      <td>5.383260</td>\n",
              "      <td>16</td>\n",
              "      <td>10</td>\n",
              "      <td>4</td>\n",
              "    </tr>\n",
              "  </tbody>\n",
              "</table>\n",
              "</div>\n",
              "      <button class=\"colab-df-convert\" onclick=\"convertToInteractive('df-2034e587-4168-4c08-8296-984f043a3581')\"\n",
              "              title=\"Convert this dataframe to an interactive table.\"\n",
              "              style=\"display:none;\">\n",
              "        \n",
              "  <svg xmlns=\"http://www.w3.org/2000/svg\" height=\"24px\"viewBox=\"0 0 24 24\"\n",
              "       width=\"24px\">\n",
              "    <path d=\"M0 0h24v24H0V0z\" fill=\"none\"/>\n",
              "    <path d=\"M18.56 5.44l.94 2.06.94-2.06 2.06-.94-2.06-.94-.94-2.06-.94 2.06-2.06.94zm-11 1L8.5 8.5l.94-2.06 2.06-.94-2.06-.94L8.5 2.5l-.94 2.06-2.06.94zm10 10l.94 2.06.94-2.06 2.06-.94-2.06-.94-.94-2.06-.94 2.06-2.06.94z\"/><path d=\"M17.41 7.96l-1.37-1.37c-.4-.4-.92-.59-1.43-.59-.52 0-1.04.2-1.43.59L10.3 9.45l-7.72 7.72c-.78.78-.78 2.05 0 2.83L4 21.41c.39.39.9.59 1.41.59.51 0 1.02-.2 1.41-.59l7.78-7.78 2.81-2.81c.8-.78.8-2.07 0-2.86zM5.41 20L4 18.59l7.72-7.72 1.47 1.35L5.41 20z\"/>\n",
              "  </svg>\n",
              "      </button>\n",
              "      \n",
              "  <style>\n",
              "    .colab-df-container {\n",
              "      display:flex;\n",
              "      flex-wrap:wrap;\n",
              "      gap: 12px;\n",
              "    }\n",
              "\n",
              "    .colab-df-convert {\n",
              "      background-color: #E8F0FE;\n",
              "      border: none;\n",
              "      border-radius: 50%;\n",
              "      cursor: pointer;\n",
              "      display: none;\n",
              "      fill: #1967D2;\n",
              "      height: 32px;\n",
              "      padding: 0 0 0 0;\n",
              "      width: 32px;\n",
              "    }\n",
              "\n",
              "    .colab-df-convert:hover {\n",
              "      background-color: #E2EBFA;\n",
              "      box-shadow: 0px 1px 2px rgba(60, 64, 67, 0.3), 0px 1px 3px 1px rgba(60, 64, 67, 0.15);\n",
              "      fill: #174EA6;\n",
              "    }\n",
              "\n",
              "    [theme=dark] .colab-df-convert {\n",
              "      background-color: #3B4455;\n",
              "      fill: #D2E3FC;\n",
              "    }\n",
              "\n",
              "    [theme=dark] .colab-df-convert:hover {\n",
              "      background-color: #434B5C;\n",
              "      box-shadow: 0px 1px 3px 1px rgba(0, 0, 0, 0.15);\n",
              "      filter: drop-shadow(0px 1px 2px rgba(0, 0, 0, 0.3));\n",
              "      fill: #FFFFFF;\n",
              "    }\n",
              "  </style>\n",
              "\n",
              "      <script>\n",
              "        const buttonEl =\n",
              "          document.querySelector('#df-2034e587-4168-4c08-8296-984f043a3581 button.colab-df-convert');\n",
              "        buttonEl.style.display =\n",
              "          google.colab.kernel.accessAllowed ? 'block' : 'none';\n",
              "\n",
              "        async function convertToInteractive(key) {\n",
              "          const element = document.querySelector('#df-2034e587-4168-4c08-8296-984f043a3581');\n",
              "          const dataTable =\n",
              "            await google.colab.kernel.invokeFunction('convertToInteractive',\n",
              "                                                     [key], {});\n",
              "          if (!dataTable) return;\n",
              "\n",
              "          const docLinkHtml = 'Like what you see? Visit the ' +\n",
              "            '<a target=\"_blank\" href=https://colab.research.google.com/notebooks/data_table.ipynb>data table notebook</a>'\n",
              "            + ' to learn more about interactive tables.';\n",
              "          element.innerHTML = '';\n",
              "          dataTable['output_type'] = 'display_data';\n",
              "          await google.colab.output.renderOutput(dataTable, element);\n",
              "          const docLink = document.createElement('div');\n",
              "          docLink.innerHTML = docLinkHtml;\n",
              "          element.appendChild(docLink);\n",
              "        }\n",
              "      </script>\n",
              "    </div>\n",
              "  </div>\n",
              "  "
            ]
          },
          "metadata": {},
          "execution_count": 7
        }
      ],
      "source": [
        "df = data_preprocessing.preprocess_ngram(df)\n",
        "df = data_preprocessing.preprocess_linguistic_features(df)\n",
        "df = linguistic_feature.linguistic_features(df)\n",
        "df.head()"
      ]
    },
    {
      "cell_type": "markdown",
      "id": "b86acb86",
      "metadata": {
        "id": "b86acb86"
      },
      "source": [
        "## Sample Reviews"
      ]
    },
    {
      "cell_type": "markdown",
      "id": "0f8b3e84",
      "metadata": {
        "id": "0f8b3e84"
      },
      "source": [
        "#### Deceptive"
      ]
    },
    {
      "cell_type": "code",
      "execution_count": 8,
      "id": "36ce8989",
      "metadata": {
        "colab": {
          "base_uri": "https://localhost:8080/"
        },
        "id": "36ce8989",
        "outputId": "4edf2d7c-7678-4bb2-f70d-57815d9afb99"
      },
      "outputs": [
        {
          "output_type": "stream",
          "name": "stdout",
          "text": [
            "If you have the money, Amalfi Hotel is the place for you. All the way from it's 316 thread count, Egyptian linens to the 24 hour fitness center. This hotel has anything you would need or want. The rooms are equipped with free wi-fi, 32in plasma televisions, multi-head showers and much, much more. You can do anything from fine dining and wine to working on the computers in the business center, which is equipped with computers free to your use. After a long night at the bar, you can get a complimentary breakfast at each floor. Over all the service is great as well. I recommend this hotel to any one from business professionals to young singles looking for a good time. I plan on coming back very soon.\n",
            "\n",
            "I was unimpressed by the quality of this hotel. The overall look of the place was marred by what felt like poor maintenance. Given that this is supposed to be a luxury hotel and charges rates at that level, this was most disappointing. Nor was I impressed with the snooty attitude taken by the hotel staff.\n",
            "\n",
            "This is a great place to stay while visiting Chicago. My husband and I went over the holidays to see my family and we stayed at this hotel. We could not have asked for nicer people! Everyone was always smiling and very helpfull! We usually stay at the Ramada...but will never stay anywhere other than the InterContinental Chicago hotel again! - Casey L. Skinner\n",
            "\n"
          ]
        }
      ],
      "source": [
        "for txt in df[df['Label'] == 1]['Ori_Review'].sample(3):\n",
        "    print(txt)\n",
        "    print()"
      ]
    },
    {
      "cell_type": "markdown",
      "id": "1c977dba",
      "metadata": {
        "id": "1c977dba"
      },
      "source": [
        "#### Truthful"
      ]
    },
    {
      "cell_type": "code",
      "execution_count": 9,
      "id": "97fd6180",
      "metadata": {
        "colab": {
          "base_uri": "https://localhost:8080/"
        },
        "id": "97fd6180",
        "outputId": "a051aabd-6917-4f33-b56d-36207b822177"
      },
      "outputs": [
        {
          "output_type": "stream",
          "name": "stdout",
          "text": [
            "Stayed here for 4 nights in Apri. From check in the stay was perfect all round, staff were so helpfuly and friendly especially Chris and Scott. The location couldn't be better right on Michigan Avenue so easy access to everything. Room was lovely and spacious and always clean and tidy at the end of the day. Will definately recommend it to friends and family.\n",
            "\n",
            "This lovely hotel has only six floors, making it easy to get to elevators and down to reception. The building is dwarfed amongst all the skyscrapers around it. Trump's huge new tower is just down the street. The Amalfi looks recently refurbished, very modern, but warm and inviting. Bedrooms quite spacious with lovely linens and very, very comfortable beds. Bathroom quite small but roomy enough, with Aveda tolietries and constant hot water in the showers. Continental style breakfast is set out fresh every morning in front of the elevator of every floor. Great to stumble out of bed and grab a coffee etc (robes & slippers provided) without having to get dressed for a formal breakfast. Really enjoyed the Managers evening cocktail reception, especially the Amalfitinis. A nice way to relax after a hard days' shopping! Location is great for all the shops, transport, museums etc. Easy walking to everywhere. Staff also very friendly and welcoming. Would definately stay there again.\n",
            "\n",
            "I have stayed at this location many times over the past few years and have enjoyed the neighborhood, cost and amenities. The hotel is currently under construction and while they claim to be open, you wouldn't know it. You need to take an elevator to get from the street the lobby and the rooms are bare lacking even an alarm clock. The beds are propped up on a modern bed stand but you might think that you are in a stale mental asylum and not a \"nicer historic hotel.\" I will try them again once the construction is through but would recommend staying at any other hotel in the meantime. It was a very frustrating experience.\n",
            "\n"
          ]
        }
      ],
      "source": [
        "for txt in df[df['Label'] == -1]['Ori_Review'].sample(3):\n",
        "    print(txt)\n",
        "    print()"
      ]
    },
    {
      "cell_type": "markdown",
      "id": "fd556d5d",
      "metadata": {
        "id": "fd556d5d"
      },
      "source": [
        "## Explore Data Distribution"
      ]
    },
    {
      "cell_type": "markdown",
      "id": "0d0956d4",
      "metadata": {
        "id": "0d0956d4"
      },
      "source": [
        "#### Review length distribution (by charactors and words)"
      ]
    },
    {
      "cell_type": "code",
      "execution_count": 10,
      "id": "59e2ce2c",
      "metadata": {
        "colab": {
          "base_uri": "https://localhost:8080/",
          "height": 355
        },
        "id": "59e2ce2c",
        "outputId": "9c25555f-d561-495d-b88c-4c4ade65ac8e"
      },
      "outputs": [
        {
          "output_type": "display_data",
          "data": {
            "text/plain": [
              "<Figure size 1080x360 with 2 Axes>"
            ],
            "image/png": "[encoded data removed]"
          },
          "metadata": {}
        }
      ],
      "source": [
        "fig, (ax1, ax2) = plt.subplots(1, 2)\n",
        "fig.set_figheight(5)\n",
        "fig.set_figwidth(15)\n",
        "\n",
        "num_char_dec = df[df['Label'] == 1]['num_char']\n",
        "num_char_tru = df[df['Label'] == -1]['num_char']\n",
        "num_word_dec = df[df['Label'] == 1]['num_char']\n",
        "num_word_tru = df[df['Label'] == -1]['num_char']\n",
        "\n",
        "sns.histplot(num_char_dec, ax=ax1, element=\"step\", fill=False, label='Deceptive')\n",
        "sns.histplot(num_char_tru, ax=ax1, element=\"step\", fill=False, label='Truthful')\n",
        "ax1.axvline(x=num_char_dec.mean(), label='Avg (Deceptive)', c='g')\n",
        "ax1.axvline(x=num_char_tru.mean(), label='Avg (Truthful)', c='r')\n",
        "ax1.set_title('Sentence Length (Charactor) Histogram')\n",
        "ax1.legend()\n",
        "\n",
        "sns.histplot(num_word_dec, ax=ax2, element=\"step\", fill=False, label='Deceptive')\n",
        "sns.histplot(num_word_tru, ax=ax2, element=\"step\", fill=False, label='Truthful')\n",
        "ax2.axvline(x=num_word_dec.mean(), label='Avg (Deceptive)', c='g')\n",
        "ax2.axvline(x=num_word_tru.mean(), label='Avg (Truthful)', c='r')\n",
        "ax2.set_title('Sentence Length (Word) Histogram')\n",
        "ax2.legend()\n",
        "\n",
        "plt.show()"
      ]
    },
    {
      "cell_type": "markdown",
      "id": "534b98e1",
      "metadata": {
        "id": "534b98e1"
      },
      "source": [
        "#### Core word and stop word distribution"
      ]
    },
    {
      "cell_type": "code",
      "execution_count": 11,
      "id": "677f64a3",
      "metadata": {
        "colab": {
          "base_uri": "https://localhost:8080/",
          "height": 355
        },
        "id": "677f64a3",
        "outputId": "2d9e00c7-b378-4019-f537-43378346c3f0",
        "scrolled": false
      },
      "outputs": [
        {
          "output_type": "display_data",
          "data": {
            "text/plain": [
              "<Figure size 1080x360 with 2 Axes>"
            ],
            "image/png": "[encoded data removed]"
          },
          "metadata": {}
        }
      ],
      "source": [
        "fig, (ax1, ax2) = plt.subplots(1, 2)\n",
        "fig.set_figheight(5)\n",
        "fig.set_figwidth(15)\n",
        "\n",
        "num_core_dec = df[df['Label'] == 1]['num_coreword']\n",
        "num_core_tru = df[df['Label'] == -1]['num_coreword']\n",
        "num_stop_dec = df[df['Label'] == 1]['num_stopword']\n",
        "num_stop_tru = df[df['Label'] == -1]['num_stopword']\n",
        "\n",
        "sns.histplot(num_core_dec, ax=ax1, element=\"step\", fill=False, label='Deceptive')\n",
        "sns.histplot(num_core_tru, ax=ax1, element=\"step\", fill=False, label='Truthful')\n",
        "ax1.axvline(x=num_core_dec.mean(), label='Avg (Deceptive)', c='g')\n",
        "ax1.axvline(x=num_core_tru.mean(), label='Avg (Truthful)', c='r')\n",
        "ax1.set_title('Number of Core Words Histogram')\n",
        "ax1.legend()\n",
        "\n",
        "sns.histplot(num_stop_dec, ax=ax2, element=\"step\", fill=False, label='Deceptive')\n",
        "sns.histplot(num_stop_tru, ax=ax2, element=\"step\", fill=False, label='Truthful')\n",
        "ax2.axvline(x=num_stop_dec.mean(), label='Avg (Deceptive)', c='g')\n",
        "ax2.axvline(x=num_stop_tru.mean(), label='Avg (Truthful)', c='r')\n",
        "ax2.set_title('Number of Stop Words Histogram')\n",
        "ax2.legend()\n",
        "\n",
        "plt.show()"
      ]
    },
    {
      "cell_type": "markdown",
      "id": "60403fa4",
      "metadata": {
        "id": "60403fa4"
      },
      "source": [
        "#### Pronoun Distribution"
      ]
    },
    {
      "cell_type": "code",
      "execution_count": 12,
      "id": "4bd6ad6f",
      "metadata": {
        "colab": {
          "base_uri": "https://localhost:8080/",
          "height": 338
        },
        "id": "4bd6ad6f",
        "outputId": "2ad1c2bb-2a80-4ba0-a207-d15c0e345f6b"
      },
      "outputs": [
        {
          "output_type": "display_data",
          "data": {
            "text/plain": [
              "<Figure size 1080x360 with 2 Axes>"
            ],
            "image/png": "[encoded data removed]"
          },
          "metadata": {}
        }
      ],
      "source": [
        "fig, (ax1, ax2) = plt.subplots(1, 2)\n",
        "fig.set_figheight(5)\n",
        "fig.set_figwidth(15)\n",
        "\n",
        "num_fs_dec = df[df['Label'] == 1]['num_first_sing']\n",
        "num_fs_tru = df[df['Label'] == -1]['num_first_sing']\n",
        "num_fp_dec = df[df['Label'] == 1]['num_first_pru']\n",
        "num_fp_tru = df[df['Label'] == -1]['num_first_pru']\n",
        "num_third_dec = df[df['Label'] == 1]['num_third']\n",
        "num_third_tru = df[df['Label'] == -1]['num_third']\n",
        "\n",
        "sns.histplot(num_fs_dec, ax=ax1, element=\"step\", fill=False, label='Deceptive')\n",
        "sns.histplot(num_fs_tru, ax=ax1, element=\"step\", fill=False, label='Truthful')\n",
        "ax1.axvline(x=num_fs_dec.mean(), label='Avg (Deceptive)', c='g')\n",
        "ax1.axvline(x=num_fs_tru.mean(), label='Avg (Truthful)', c='r')\n",
        "ax1.set_title('First-Person Singular Pronoun Histogram')\n",
        "ax1.set(xlabel='')\n",
        "ax1.legend()\n",
        "\n",
        "sns.histplot(num_fs_dec, ax=ax2, element=\"step\", fill=False, label='Deceptive')\n",
        "sns.histplot(num_fs_tru, ax=ax2, element=\"step\", fill=False, label='Truthful')\n",
        "ax2.axvline(x=num_fs_dec.mean(), label='Avg (Deceptive)', c='g')\n",
        "ax2.axvline(x=num_fs_tru.mean(), label='Avg (Truthful)', c='r')\n",
        "ax2.set_title('First-Person Plural Pronoun Histogram')\n",
        "ax2.set(xlabel='')\n",
        "ax2.legend()\n",
        "\n",
        "plt.savefig('first_person_pronoun.png')\n",
        "plt.show()"
      ]
    }
  ],
  "metadata": {
    "colab": {
      "provenance": []
    },
    "kernelspec": {
      "display_name": "Python 3.9.12 ('base')",
      "language": "python",
      "name": "python3"
    },
    "language_info": {
      "codemirror_mode": {
        "name": "ipython",
        "version": 3
      },
      "file_extension": ".py",
      "mimetype": "text/x-python",
      "name": "python",
      "nbconvert_exporter": "python",
      "pygments_lexer": "ipython3",
      "version": "3.9.12"
    },
    "vscode": {
      "interpreter": {
        "hash": "2b32675aa610a2a5db7c4c2427e88756c8d71e8897b52c5f975df15fb74ea7a4"
      }
    }
  },
  "nbformat": 4,
  "nbformat_minor": 5
}