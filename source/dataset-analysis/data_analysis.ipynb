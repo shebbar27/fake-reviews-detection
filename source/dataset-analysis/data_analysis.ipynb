{
  "cells": [
    {
      "cell_type": "code",
      "execution_count": 1,
      "id": "787c4327",
      "metadata": {
        "id": "787c4327"
      },
      "outputs": [],
      "source": [
        "%load_ext autoreload\n",
        "%autoreload 2"
      ]
    },
    {
      "cell_type": "code",
      "execution_count": 2,
      "id": "158a2797",
      "metadata": {
        "id": "158a2797",
        "colab": {
          "base_uri": "https://localhost:8080/"
        },
        "outputId": "8448ae20-c677-4aa7-add3-70dae59687b5"
      },
      "outputs": [
        {
          "output_type": "stream",
          "name": "stderr",
          "text": [
            "[nltk_data] Downloading package averaged_perceptron_tagger to\n",
            "[nltk_data]     /root/nltk_data...\n",
            "[nltk_data]   Unzipping taggers/averaged_perceptron_tagger.zip.\n",
            "[nltk_data] Downloading package wordnet to /root/nltk_data...\n",
            "[nltk_data] Downloading package omw-1.4 to /root/nltk_data...\n",
            "[nltk_data] Downloading package stopwords to /root/nltk_data...\n",
            "[nltk_data]   Unzipping corpora/stopwords.zip.\n"
          ]
        },
        {
          "output_type": "execute_result",
          "data": {
            "text/plain": [
              "True"
            ]
          },
          "metadata": {},
          "execution_count": 2
        }
      ],
      "source": [
        "import numpy as np\n",
        "import pandas\n",
        "import random\n",
        "import seaborn as sns\n",
        "sns.set_theme()\n",
        "\n",
        "from matplotlib import pyplot as plt\n",
        "\n",
        "import nltk\n",
        "nltk.download('averaged_perceptron_tagger')\n",
        "nltk.download('wordnet')\n",
        "nltk.download('omw-1.4')\n",
        "nltk.download('stopwords')"
      ]
    },
    {
      "cell_type": "code",
      "execution_count": 3,
      "id": "w95CjpiHxXwJ",
      "metadata": {
        "colab": {
          "base_uri": "https://localhost:8080/"
        },
        "id": "w95CjpiHxXwJ",
        "outputId": "e130c949-a859-4dc0-a49e-7edf4b994a05"
      },
      "outputs": [
        {
          "output_type": "stream",
          "name": "stdout",
          "text": [
            "Mounted at /content/drive\n"
          ]
        }
      ],
      "source": [
        "from google.colab import drive\n",
        "drive.mount('/content/drive', force_remount=True)"
      ]
    },
    {
      "cell_type": "code",
      "execution_count": 4,
      "id": "T3X4z6MxxacD",
      "metadata": {
        "id": "T3X4z6MxxacD"
      },
      "outputs": [],
      "source": [
        "import sys\n",
        "sys.path.append('/content/drive/My Drive/Colab Notebooks/fake-reviews-detection/source/common/')"
      ]
    },
    {
      "cell_type": "code",
      "execution_count": 5,
      "id": "1ce6b973",
      "metadata": {
        "id": "1ce6b973"
      },
      "outputs": [],
      "source": [
        "import data_preprocessing\n",
        "import ngram\n",
        "import linguistic_feature"
      ]
    },
    {
      "cell_type": "code",
      "execution_count": 6,
      "id": "45ec3c3d",
      "metadata": {
        "colab": {
          "base_uri": "https://localhost:8080/",
          "height": 206
        },
        "id": "45ec3c3d",
        "outputId": "895b83e9-0428-470e-f34e-4d03d858213d"
      },
      "outputs": [
        {
          "output_type": "display_data",
          "data": {
            "text/plain": [
              "   Label  Rating                                         Ori_Review\n",
              "0      1       1  For 250 dollars, cheapest room available at th...\n",
              "1      1       1  Me and my business associate had a job in Chic...\n",
              "2      1       1  My stay at the Hyatt Regency was an experience...\n",
              "3      1       1  Upon first inspection, Sofitel Chicago Water T...\n",
              "4      1       1  I wish to express my dissatisfaction with my s..."
            ],
            "text/html": [
              "\n",
              "  <div id=\"df-206ccd72-70f7-42f0-8522-c6837feca9d1\">\n",
              "    <div class=\"colab-df-container\">\n",
              "      <div>\n",
              "<style scoped>\n",
              "    .dataframe tbody tr th:only-of-type {\n",
              "        vertical-align: middle;\n",
              "    }\n",
              "\n",
              "    .dataframe tbody tr th {\n",
              "        vertical-align: top;\n",
              "    }\n",
              "\n",
              "    .dataframe thead th {\n",
              "        text-align: right;\n",
              "    }\n",
              "</style>\n",
              "<table border=\"1\" class=\"dataframe\">\n",
              "  <thead>\n",
              "    <tr style=\"text-align: right;\">\n",
              "      <th></th>\n",
              "      <th>Label</th>\n",
              "      <th>Rating</th>\n",
              "      <th>Ori_Review</th>\n",
              "    </tr>\n",
              "  </thead>\n",
              "  <tbody>\n",
              "    <tr>\n",
              "      <th>0</th>\n",
              "      <td>1</td>\n",
              "      <td>1</td>\n",
              "      <td>For 250 dollars, cheapest room available at th...</td>\n",
              "    </tr>\n",
              "    <tr>\n",
              "      <th>1</th>\n",
              "      <td>1</td>\n",
              "      <td>1</td>\n",
              "      <td>Me and my business associate had a job in Chic...</td>\n",
              "    </tr>\n",
              "    <tr>\n",
              "      <th>2</th>\n",
              "      <td>1</td>\n",
              "      <td>1</td>\n",
              "      <td>My stay at the Hyatt Regency was an experience...</td>\n",
              "    </tr>\n",
              "    <tr>\n",
              "      <th>3</th>\n",
              "      <td>1</td>\n",
              "      <td>1</td>\n",
              "      <td>Upon first inspection, Sofitel Chicago Water T...</td>\n",
              "    </tr>\n",
              "    <tr>\n",
              "      <th>4</th>\n",
              "      <td>1</td>\n",
              "      <td>1</td>\n",
              "      <td>I wish to express my dissatisfaction with my s...</td>\n",
              "    </tr>\n",
              "  </tbody>\n",
              "</table>\n",
              "</div>\n",
              "      <button class=\"colab-df-convert\" onclick=\"convertToInteractive('df-206ccd72-70f7-42f0-8522-c6837feca9d1')\"\n",
              "              title=\"Convert this dataframe to an interactive table.\"\n",
              "              style=\"display:none;\">\n",
              "        \n",
              "  <svg xmlns=\"http://www.w3.org/2000/svg\" height=\"24px\"viewBox=\"0 0 24 24\"\n",
              "       width=\"24px\">\n",
              "    <path d=\"M0 0h24v24H0V0z\" fill=\"none\"/>\n",
              "    <path d=\"M18.56 5.44l.94 2.06.94-2.06 2.06-.94-2.06-.94-.94-2.06-.94 2.06-2.06.94zm-11 1L8.5 8.5l.94-2.06 2.06-.94-2.06-.94L8.5 2.5l-.94 2.06-2.06.94zm10 10l.94 2.06.94-2.06 2.06-.94-2.06-.94-.94-2.06-.94 2.06-2.06.94z\"/><path d=\"M17.41 7.96l-1.37-1.37c-.4-.4-.92-.59-1.43-.59-.52 0-1.04.2-1.43.59L10.3 9.45l-7.72 7.72c-.78.78-.78 2.05 0 2.83L4 21.41c.39.39.9.59 1.41.59.51 0 1.02-.2 1.41-.59l7.78-7.78 2.81-2.81c.8-.78.8-2.07 0-2.86zM5.41 20L4 18.59l7.72-7.72 1.47 1.35L5.41 20z\"/>\n",
              "  </svg>\n",
              "      </button>\n",
              "      \n",
              "  <style>\n",
              "    .colab-df-container {\n",
              "      display:flex;\n",
              "      flex-wrap:wrap;\n",
              "      gap: 12px;\n",
              "    }\n",
              "\n",
              "    .colab-df-convert {\n",
              "      background-color: #E8F0FE;\n",
              "      border: none;\n",
              "      border-radius: 50%;\n",
              "      cursor: pointer;\n",
              "      display: none;\n",
              "      fill: #1967D2;\n",
              "      height: 32px;\n",
              "      padding: 0 0 0 0;\n",
              "      width: 32px;\n",
              "    }\n",
              "\n",
              "    .colab-df-convert:hover {\n",
              "      background-color: #E2EBFA;\n",
              "      box-shadow: 0px 1px 2px rgba(60, 64, 67, 0.3), 0px 1px 3px 1px rgba(60, 64, 67, 0.15);\n",
              "      fill: #174EA6;\n",
              "    }\n",
              "\n",
              "    [theme=dark] .colab-df-convert {\n",
              "      background-color: #3B4455;\n",
              "      fill: #D2E3FC;\n",
              "    }\n",
              "\n",
              "    [theme=dark] .colab-df-convert:hover {\n",
              "      background-color: #434B5C;\n",
              "      box-shadow: 0px 1px 3px 1px rgba(0, 0, 0, 0.15);\n",
              "      filter: drop-shadow(0px 1px 2px rgba(0, 0, 0, 0.3));\n",
              "      fill: #FFFFFF;\n",
              "    }\n",
              "  </style>\n",
              "\n",
              "      <script>\n",
              "        const buttonEl =\n",
              "          document.querySelector('#df-206ccd72-70f7-42f0-8522-c6837feca9d1 button.colab-df-convert');\n",
              "        buttonEl.style.display =\n",
              "          google.colab.kernel.accessAllowed ? 'block' : 'none';\n",
              "\n",
              "        async function convertToInteractive(key) {\n",
              "          const element = document.querySelector('#df-206ccd72-70f7-42f0-8522-c6837feca9d1');\n",
              "          const dataTable =\n",
              "            await google.colab.kernel.invokeFunction('convertToInteractive',\n",
              "                                                     [key], {});\n",
              "          if (!dataTable) return;\n",
              "\n",
              "          const docLinkHtml = 'Like what you see? Visit the ' +\n",
              "            '<a target=\"_blank\" href=https://colab.research.google.com/notebooks/data_table.ipynb>data table notebook</a>'\n",
              "            + ' to learn more about interactive tables.';\n",
              "          element.innerHTML = '';\n",
              "          dataTable['output_type'] = 'display_data';\n",
              "          await google.colab.output.renderOutput(dataTable, element);\n",
              "          const docLink = document.createElement('div');\n",
              "          docLink.innerHTML = docLinkHtml;\n",
              "          element.appendChild(docLink);\n",
              "        }\n",
              "      </script>\n",
              "    </div>\n",
              "  </div>\n",
              "  "
            ]
          },
          "metadata": {}
        }
      ],
      "source": [
        "root_dir = \"/content/drive/My Drive/Colab Notebooks/fake-reviews-detection\"\n",
        "df = data_preprocessing.import_raw_data(root_dir)\n",
        "display(df[:5])"
      ]
    },
    {
      "cell_type": "code",
      "execution_count": 7,
      "id": "6338d1d5",
      "metadata": {
        "colab": {
          "base_uri": "https://localhost:8080/",
          "height": 424
        },
        "id": "6338d1d5",
        "outputId": "0c9d9e5c-6804-4260-e990-ec1f73d32890"
      },
      "outputs": [
        {
          "output_type": "execute_result",
          "data": {
            "text/plain": [
              "   Label  Rating                                         Ori_Review  \\\n",
              "0      1       1  For 250 dollars, cheapest room available at th...   \n",
              "1      1       1  Me and my business associate had a job in Chic...   \n",
              "2      1       1  My stay at the Hyatt Regency was an experience...   \n",
              "3      1       1  Upon first inspection, Sofitel Chicago Water T...   \n",
              "4      1       1  I wish to express my dissatisfaction with my s...   \n",
              "\n",
              "                                        Clean_Review  \\\n",
              "0  for dollar cheap room available at the hard ro...   \n",
              "1  me and my business associate have a job in chi...   \n",
              "2  my stay at the hyatt regency be an experience ...   \n",
              "3  upon first inspection sofitel chicago water to...   \n",
              "4  i wish to express my dissatisfaction with my s...   \n",
              "\n",
              "                                           PP_Review  \\\n",
              "0  dollar cheap available hard rock assume access...   \n",
              "1  business associate job want somewhere feature ...   \n",
              "2  hyatt regency experience never ever forget goo...   \n",
              "3  upon first inspection sofitel water tower look...   \n",
              "4  wish express dissatisfaction sofitel water tow...   \n",
              "\n",
              "                                           Word_List  \\\n",
              "0  [dollar, cheap, available, hard, rock, assume,...   \n",
              "1  [business, associate, job, want, somewhere, fe...   \n",
              "2  [hyatt, regency, experience, never, ever, forg...   \n",
              "3  [upon, first, inspection, sofitel, water, towe...   \n",
              "4  [wish, express, dissatisfaction, sofitel, wate...   \n",
              "\n",
              "                                       Word_List_all  num_word  num_coreword  \\\n",
              "0  [for, 250, dollar, cheap, room, available, at,...        68            24   \n",
              "1  [me, and, my, business, associate, have, a, jo...       104            41   \n",
              "2  [my, stay, at, the, hyatt, regency, be, an, ex...       264           116   \n",
              "3  [upon, first, inspection, sofitel, chicago, wa...       135            65   \n",
              "4  [i, wish, to, express, my, dissatisfaction, wi...       227            87   \n",
              "\n",
              "   num_stopword  num_char  char_per_word  num_first_sing  num_first_pru  \\\n",
              "0            44       357       5.250000               4              0   \n",
              "1            63       544       5.230769               2              8   \n",
              "2           148      1265       4.791667              22              0   \n",
              "3            70       738       5.466667               1              0   \n",
              "4           140      1222       5.383260              16             10   \n",
              "\n",
              "   num_third  \n",
              "0          1  \n",
              "1          0  \n",
              "2          5  \n",
              "3          1  \n",
              "4          4  "
            ],
            "text/html": [
              "\n",
              "  <div id=\"df-ae55dbf4-65c0-49b0-87e3-437eda489029\">\n",
              "    <div class=\"colab-df-container\">\n",
              "      <div>\n",
              "<style scoped>\n",
              "    .dataframe tbody tr th:only-of-type {\n",
              "        vertical-align: middle;\n",
              "    }\n",
              "\n",
              "    .dataframe tbody tr th {\n",
              "        vertical-align: top;\n",
              "    }\n",
              "\n",
              "    .dataframe thead th {\n",
              "        text-align: right;\n",
              "    }\n",
              "</style>\n",
              "<table border=\"1\" class=\"dataframe\">\n",
              "  <thead>\n",
              "    <tr style=\"text-align: right;\">\n",
              "      <th></th>\n",
              "      <th>Label</th>\n",
              "      <th>Rating</th>\n",
              "      <th>Ori_Review</th>\n",
              "      <th>Clean_Review</th>\n",
              "      <th>PP_Review</th>\n",
              "      <th>Word_List</th>\n",
              "      <th>Word_List_all</th>\n",
              "      <th>num_word</th>\n",
              "      <th>num_coreword</th>\n",
              "      <th>num_stopword</th>\n",
              "      <th>num_char</th>\n",
              "      <th>char_per_word</th>\n",
              "      <th>num_first_sing</th>\n",
              "      <th>num_first_pru</th>\n",
              "      <th>num_third</th>\n",
              "    </tr>\n",
              "  </thead>\n",
              "  <tbody>\n",
              "    <tr>\n",
              "      <th>0</th>\n",
              "      <td>1</td>\n",
              "      <td>1</td>\n",
              "      <td>For 250 dollars, cheapest room available at th...</td>\n",
              "      <td>for dollar cheap room available at the hard ro...</td>\n",
              "      <td>dollar cheap available hard rock assume access...</td>\n",
              "      <td>[dollar, cheap, available, hard, rock, assume,...</td>\n",
              "      <td>[for, 250, dollar, cheap, room, available, at,...</td>\n",
              "      <td>68</td>\n",
              "      <td>24</td>\n",
              "      <td>44</td>\n",
              "      <td>357</td>\n",
              "      <td>5.250000</td>\n",
              "      <td>4</td>\n",
              "      <td>0</td>\n",
              "      <td>1</td>\n",
              "    </tr>\n",
              "    <tr>\n",
              "      <th>1</th>\n",
              "      <td>1</td>\n",
              "      <td>1</td>\n",
              "      <td>Me and my business associate had a job in Chic...</td>\n",
              "      <td>me and my business associate have a job in chi...</td>\n",
              "      <td>business associate job want somewhere feature ...</td>\n",
              "      <td>[business, associate, job, want, somewhere, fe...</td>\n",
              "      <td>[me, and, my, business, associate, have, a, jo...</td>\n",
              "      <td>104</td>\n",
              "      <td>41</td>\n",
              "      <td>63</td>\n",
              "      <td>544</td>\n",
              "      <td>5.230769</td>\n",
              "      <td>2</td>\n",
              "      <td>8</td>\n",
              "      <td>0</td>\n",
              "    </tr>\n",
              "    <tr>\n",
              "      <th>2</th>\n",
              "      <td>1</td>\n",
              "      <td>1</td>\n",
              "      <td>My stay at the Hyatt Regency was an experience...</td>\n",
              "      <td>my stay at the hyatt regency be an experience ...</td>\n",
              "      <td>hyatt regency experience never ever forget goo...</td>\n",
              "      <td>[hyatt, regency, experience, never, ever, forg...</td>\n",
              "      <td>[my, stay, at, the, hyatt, regency, be, an, ex...</td>\n",
              "      <td>264</td>\n",
              "      <td>116</td>\n",
              "      <td>148</td>\n",
              "      <td>1265</td>\n",
              "      <td>4.791667</td>\n",
              "      <td>22</td>\n",
              "      <td>0</td>\n",
              "      <td>5</td>\n",
              "    </tr>\n",
              "    <tr>\n",
              "      <th>3</th>\n",
              "      <td>1</td>\n",
              "      <td>1</td>\n",
              "      <td>Upon first inspection, Sofitel Chicago Water T...</td>\n",
              "      <td>upon first inspection sofitel chicago water to...</td>\n",
              "      <td>upon first inspection sofitel water tower look...</td>\n",
              "      <td>[upon, first, inspection, sofitel, water, towe...</td>\n",
              "      <td>[upon, first, inspection, sofitel, chicago, wa...</td>\n",
              "      <td>135</td>\n",
              "      <td>65</td>\n",
              "      <td>70</td>\n",
              "      <td>738</td>\n",
              "      <td>5.466667</td>\n",
              "      <td>1</td>\n",
              "      <td>0</td>\n",
              "      <td>1</td>\n",
              "    </tr>\n",
              "    <tr>\n",
              "      <th>4</th>\n",
              "      <td>1</td>\n",
              "      <td>1</td>\n",
              "      <td>I wish to express my dissatisfaction with my s...</td>\n",
              "      <td>i wish to express my dissatisfaction with my s...</td>\n",
              "      <td>wish express dissatisfaction sofitel water tow...</td>\n",
              "      <td>[wish, express, dissatisfaction, sofitel, wate...</td>\n",
              "      <td>[i, wish, to, express, my, dissatisfaction, wi...</td>\n",
              "      <td>227</td>\n",
              "      <td>87</td>\n",
              "      <td>140</td>\n",
              "      <td>1222</td>\n",
              "      <td>5.383260</td>\n",
              "      <td>16</td>\n",
              "      <td>10</td>\n",
              "      <td>4</td>\n",
              "    </tr>\n",
              "  </tbody>\n",
              "</table>\n",
              "</div>\n",
              "      <button class=\"colab-df-convert\" onclick=\"convertToInteractive('df-ae55dbf4-65c0-49b0-87e3-437eda489029')\"\n",
              "              title=\"Convert this dataframe to an interactive table.\"\n",
              "              style=\"display:none;\">\n",
              "        \n",
              "  <svg xmlns=\"http://www.w3.org/2000/svg\" height=\"24px\"viewBox=\"0 0 24 24\"\n",
              "       width=\"24px\">\n",
              "    <path d=\"M0 0h24v24H0V0z\" fill=\"none\"/>\n",
              "    <path d=\"M18.56 5.44l.94 2.06.94-2.06 2.06-.94-2.06-.94-.94-2.06-.94 2.06-2.06.94zm-11 1L8.5 8.5l.94-2.06 2.06-.94-2.06-.94L8.5 2.5l-.94 2.06-2.06.94zm10 10l.94 2.06.94-2.06 2.06-.94-2.06-.94-.94-2.06-.94 2.06-2.06.94z\"/><path d=\"M17.41 7.96l-1.37-1.37c-.4-.4-.92-.59-1.43-.59-.52 0-1.04.2-1.43.59L10.3 9.45l-7.72 7.72c-.78.78-.78 2.05 0 2.83L4 21.41c.39.39.9.59 1.41.59.51 0 1.02-.2 1.41-.59l7.78-7.78 2.81-2.81c.8-.78.8-2.07 0-2.86zM5.41 20L4 18.59l7.72-7.72 1.47 1.35L5.41 20z\"/>\n",
              "  </svg>\n",
              "      </button>\n",
              "      \n",
              "  <style>\n",
              "    .colab-df-container {\n",
              "      display:flex;\n",
              "      flex-wrap:wrap;\n",
              "      gap: 12px;\n",
              "    }\n",
              "\n",
              "    .colab-df-convert {\n",
              "      background-color: #E8F0FE;\n",
              "      border: none;\n",
              "      border-radius: 50%;\n",
              "      cursor: pointer;\n",
              "      display: none;\n",
              "      fill: #1967D2;\n",
              "      height: 32px;\n",
              "      padding: 0 0 0 0;\n",
              "      width: 32px;\n",
              "    }\n",
              "\n",
              "    .colab-df-convert:hover {\n",
              "      background-color: #E2EBFA;\n",
              "      box-shadow: 0px 1px 2px rgba(60, 64, 67, 0.3), 0px 1px 3px 1px rgba(60, 64, 67, 0.15);\n",
              "      fill: #174EA6;\n",
              "    }\n",
              "\n",
              "    [theme=dark] .colab-df-convert {\n",
              "      background-color: #3B4455;\n",
              "      fill: #D2E3FC;\n",
              "    }\n",
              "\n",
              "    [theme=dark] .colab-df-convert:hover {\n",
              "      background-color: #434B5C;\n",
              "      box-shadow: 0px 1px 3px 1px rgba(0, 0, 0, 0.15);\n",
              "      filter: drop-shadow(0px 1px 2px rgba(0, 0, 0, 0.3));\n",
              "      fill: #FFFFFF;\n",
              "    }\n",
              "  </style>\n",
              "\n",
              "      <script>\n",
              "        const buttonEl =\n",
              "          document.querySelector('#df-ae55dbf4-65c0-49b0-87e3-437eda489029 button.colab-df-convert');\n",
              "        buttonEl.style.display =\n",
              "          google.colab.kernel.accessAllowed ? 'block' : 'none';\n",
              "\n",
              "        async function convertToInteractive(key) {\n",
              "          const element = document.querySelector('#df-ae55dbf4-65c0-49b0-87e3-437eda489029');\n",
              "          const dataTable =\n",
              "            await google.colab.kernel.invokeFunction('convertToInteractive',\n",
              "                                                     [key], {});\n",
              "          if (!dataTable) return;\n",
              "\n",
              "          const docLinkHtml = 'Like what you see? Visit the ' +\n",
              "            '<a target=\"_blank\" href=https://colab.research.google.com/notebooks/data_table.ipynb>data table notebook</a>'\n",
              "            + ' to learn more about interactive tables.';\n",
              "          element.innerHTML = '';\n",
              "          dataTable['output_type'] = 'display_data';\n",
              "          await google.colab.output.renderOutput(dataTable, element);\n",
              "          const docLink = document.createElement('div');\n",
              "          docLink.innerHTML = docLinkHtml;\n",
              "          element.appendChild(docLink);\n",
              "        }\n",
              "      </script>\n",
              "    </div>\n",
              "  </div>\n",
              "  "
            ]
          },
          "metadata": {},
          "execution_count": 7
        }
      ],
      "source": [
        "df = data_preprocessing.preprocess_ngram(df)\n",
        "df = data_preprocessing.preprocess_linguistic_features(df)\n",
        "df = linguistic_feature.linguistic_features(df)\n",
        "df.head()"
      ]
    },
    {
      "cell_type": "markdown",
      "id": "b86acb86",
      "metadata": {
        "id": "b86acb86"
      },
      "source": [
        "## Sample Reviews"
      ]
    },
    {
      "cell_type": "markdown",
      "id": "0f8b3e84",
      "metadata": {
        "id": "0f8b3e84"
      },
      "source": [
        "#### Deceptive"
      ]
    },
    {
      "cell_type": "code",
      "execution_count": 8,
      "id": "36ce8989",
      "metadata": {
        "colab": {
          "base_uri": "https://localhost:8080/"
        },
        "id": "36ce8989",
        "outputId": "5fa9f58b-fcea-4010-e6fe-63c331f89552"
      },
      "outputs": [
        {
          "output_type": "stream",
          "name": "stdout",
          "text": [
            "I stayed this hotel for 2 nights. I had high hopes seeing as this is a 4 star hotel and seems quite elegant based on pictures I've seen. Upon entering the building, you can easily see that it is clean and high class. The lobby was nice, and everything seemed as it should be. However, as soon as I made it into my room, it was completely different than everything previous to it. It was dirty, visible yellow stains on the walls and all around the restroom. The room too was not completely organized as all other hotel rooms I've been to. There was also a lingering smell from the last tenants. When I called the front desk about these issues, they sent someone up to fix it. I left the hotel about two hours and upon returning, they were still at it! This is an unreasonable amount of time to fix these glaring errors. The smell also did not completely disappear when they were done. As I was too tired, I just decided to deal with it for the rest of my stay here and focus on enjoying my vacation at Chicago instead. I hope its shallow exterior does not fool others like it fooled me.\n",
            "\n",
            "We stayed here for a weekend trip to Chicago and we will come back and stay here again. It was great place front desk clerks were very helpful.Also we loved the view. Very nice quiet place and upto date and super clean. We will def stay here again highly recommended.\n",
            "\n",
            "We stayed at the Schicago Hilton for 4 days and 3 nights for a conference. I have to say, normally I am very easy going about amenities, cleanliness, and the like...however our experience at the Hilton was so awful I am taking the time to actually write this review. Truly, DO NOT stay at this hotel. When we arrived in our room, it was clear that the carpet hadn't been vacuumed. I figuered, \"okay, it's just the carpet.\" Until I saw the bathroom! Although the bathroom had all the superficial indicators of housekeeping having recently cleaned (i.e., a paper band across the toilet, paper caps on the drinking glasses, etc., it was clear that no ACTUAL cleaning took place. There was a spot (probably urine!) on the toilet seat and, I kid you not, the remnants of a lip-smudge on the glass. I know people who have worked many years in the hotel industry and they always warned that lazy housekeeping will make things \"appear\" clean but in fact they make no effort to keep things sanitary. Well, the Hilton was proof. I called downstairs and complained, and they sent up a chambermaid hours later. Frankly, I found the room disgusting. The hotel itself, outside the rooms, was cavernous and unwelcoming, with an awful echo in the lobby area that created a migraine-inducing din. Rarely have I been so eager to leave a place as this. When I got home, I washed all my clothes whether I had worn them or not, such was the skeeviness of our accomodations. Please, do yourself a favor and stay at a CLEAN hotel.\n",
            "\n"
          ]
        }
      ],
      "source": [
        "for txt in df[df['Label'] == 1]['Ori_Review'].sample(3):\n",
        "    print(txt)\n",
        "    print()"
      ]
    },
    {
      "cell_type": "markdown",
      "id": "1c977dba",
      "metadata": {
        "id": "1c977dba"
      },
      "source": [
        "#### Truthful"
      ]
    },
    {
      "cell_type": "code",
      "execution_count": 9,
      "id": "97fd6180",
      "metadata": {
        "colab": {
          "base_uri": "https://localhost:8080/"
        },
        "id": "97fd6180",
        "outputId": "c5cd1ba7-8e75-4fba-d44e-399070b068cf"
      },
      "outputs": [
        {
          "output_type": "stream",
          "name": "stdout",
          "text": [
            "We have been for the first time in Chicago and stayed in the Swissotel for five nights,a wonderful place.Room was on the 29th floor,absolutely clean and nice and a breathtaking lakeview.Breakfast perfect and service really good.People were always helpful.It's a little bit far from Magnificent mile and the loop,but in front of the hotel there are buses (number6)waiting there next turn,not a real bus stop,but drivers are frindly and you can get on the bus.Next time going to Chicago we will again stay in the Swissotel.\n",
            "\n",
            "We stayed at the Swissotel for a special birthday weekend for my wife from Aug 25 to 29. I had called ahead to ask for a nice room and to order flowers for my wife. Jaymes Ballard, the Concierge, made arrange for flowers, early check-in and we had a great room. Our room was the 33rd floor with a view facing the city. Room was large, everything looked like new, great bed, large bathroom with separate shower, great ammenities. A beautiful bouquet of flowers arrived upon our arrival. The hotel is about 10 mins from everything, not close but not far from anything. Has a great restaurant, 2 patios outside where I had a cigar. A really nice pool and hot tub on the 42nd floor. I would recommend this hotel to anyone and thanks to Jaymes for making our trip very special.\n",
            "\n",
            "When you check into a hotel after being stuck in a airport, you areusually not in the best of mood. I, working in a upscale hotel, do encounter many guests checking in who this has happened to. All they want is a friendly face and a smooth check in. The desk clerk who checked me in at this property, did neither. She was short, rude, handed me my keys and walked away. I would never go back to this property due to this.\n",
            "\n"
          ]
        }
      ],
      "source": [
        "for txt in df[df['Label'] == -1]['Ori_Review'].sample(3):\n",
        "    print(txt)\n",
        "    print()"
      ]
    },
    {
      "cell_type": "markdown",
      "id": "fd556d5d",
      "metadata": {
        "id": "fd556d5d"
      },
      "source": [
        "## Explore Data Distribution"
      ]
    },
    {
      "cell_type": "markdown",
      "id": "0d0956d4",
      "metadata": {
        "id": "0d0956d4"
      },
      "source": [
        "#### Review length distribution (by charactors and words)"
      ]
    },
    {
      "cell_type": "code",
      "execution_count": 10,
      "id": "59e2ce2c",
      "metadata": {
        "colab": {
          "base_uri": "https://localhost:8080/",
          "height": 355
        },
        "id": "59e2ce2c",
        "outputId": "69b3e97e-12d3-4645-87ce-6c16eba4f7aa"
      },
      "outputs": [
        {
          "output_type": "display_data",
          "data": {
            "text/plain": [
              "<Figure size 1080x360 with 2 Axes>"
            ],
            "image/png": "[encoded data removed]"
          },
          "metadata": {}
        }
      ],
      "source": [
        "fig, (ax1, ax2) = plt.subplots(1, 2)\n",
        "fig.set_figheight(5)\n",
        "fig.set_figwidth(15)\n",
        "\n",
        "num_char_dec = df[df['Label'] == 1]['num_char']\n",
        "num_char_tru = df[df['Label'] == -1]['num_char']\n",
        "num_word_dec = df[df['Label'] == 1]['num_char']\n",
        "num_word_tru = df[df['Label'] == -1]['num_char']\n",
        "\n",
        "sns.histplot(num_char_dec, ax=ax1, element=\"step\", fill=False, label='Deceptive')\n",
        "sns.histplot(num_char_tru, ax=ax1, element=\"step\", fill=False, label='Truthful')\n",
        "ax1.axvline(x=num_char_dec.mean(), label='Avg (Deceptive)', c='g')\n",
        "ax1.axvline(x=num_char_tru.mean(), label='Avg (Truthful)', c='r')\n",
        "ax1.set_title('Sentence Length (Charactor) Histogram')\n",
        "ax1.legend()\n",
        "\n",
        "sns.histplot(num_word_dec, ax=ax2, element=\"step\", fill=False, label='Deceptive')\n",
        "sns.histplot(num_word_tru, ax=ax2, element=\"step\", fill=False, label='Truthful')\n",
        "ax2.axvline(x=num_word_dec.mean(), label='Avg (Deceptive)', c='g')\n",
        "ax2.axvline(x=num_word_tru.mean(), label='Avg (Truthful)', c='r')\n",
        "ax2.set_title('Sentence Length (Word) Histogram')\n",
        "ax2.legend()\n",
        "\n",
        "plt.show()"
      ]
    },
    {
      "cell_type": "markdown",
      "id": "534b98e1",
      "metadata": {
        "id": "534b98e1"
      },
      "source": [
        "#### Core word and stop word distribution"
      ]
    },
    {
      "cell_type": "code",
      "execution_count": 11,
      "id": "677f64a3",
      "metadata": {
        "colab": {
          "base_uri": "https://localhost:8080/",
          "height": 355
        },
        "id": "677f64a3",
        "outputId": "c820483a-ef2e-4a4e-d521-5e5ffe522e35",
        "scrolled": false
      },
      "outputs": [
        {
          "output_type": "display_data",
          "data": {
            "text/plain": [
              "<Figure size 1080x360 with 2 Axes>"
            ],
            "image/png": "[encoded data removed]"
          },
          "metadata": {}
        }
      ],
      "source": [
        "fig, (ax1, ax2) = plt.subplots(1, 2)\n",
        "fig.set_figheight(5)\n",
        "fig.set_figwidth(15)\n",
        "\n",
        "num_core_dec = df[df['Label'] == 1]['num_coreword']\n",
        "num_core_tru = df[df['Label'] == -1]['num_coreword']\n",
        "num_stop_dec = df[df['Label'] == 1]['num_stopword']\n",
        "num_stop_tru = df[df['Label'] == -1]['num_stopword']\n",
        "\n",
        "sns.histplot(num_core_dec, ax=ax1, element=\"step\", fill=False, label='Deceptive')\n",
        "sns.histplot(num_core_tru, ax=ax1, element=\"step\", fill=False, label='Truthful')\n",
        "ax1.axvline(x=num_core_dec.mean(), label='Avg (Deceptive)', c='g')\n",
        "ax1.axvline(x=num_core_tru.mean(), label='Avg (Truthful)', c='r')\n",
        "ax1.set_title('Number of Core Words Histogram')\n",
        "ax1.legend()\n",
        "\n",
        "sns.histplot(num_stop_dec, ax=ax2, element=\"step\", fill=False, label='Deceptive')\n",
        "sns.histplot(num_stop_tru, ax=ax2, element=\"step\", fill=False, label='Truthful')\n",
        "ax2.axvline(x=num_stop_dec.mean(), label='Avg (Deceptive)', c='g')\n",
        "ax2.axvline(x=num_stop_tru.mean(), label='Avg (Truthful)', c='r')\n",
        "ax2.set_title('Number of Stop Words Histogram')\n",
        "ax2.legend()\n",
        "\n",
        "plt.show()"
      ]
    },
    {
      "cell_type": "markdown",
      "id": "60403fa4",
      "metadata": {
        "id": "60403fa4"
      },
      "source": [
        "#### Pronoun Distribution"
      ]
    },
    {
      "cell_type": "code",
      "execution_count": 12,
      "id": "4bd6ad6f",
      "metadata": {
        "colab": {
          "base_uri": "https://localhost:8080/",
          "height": 338
        },
        "id": "4bd6ad6f",
        "outputId": "c7d6dbcf-514a-48e6-c9a0-68c3d5f6b7d9"
      },
      "outputs": [
        {
          "output_type": "display_data",
          "data": {
            "text/plain": [
              "<Figure size 1080x360 with 2 Axes>"
            ],
            "image/png": "[encoded data removed]"
          },
          "metadata": {}
        }
      ],
      "source": [
        "fig, (ax1, ax2) = plt.subplots(1, 2)\n",
        "fig.set_figheight(5)\n",
        "fig.set_figwidth(15)\n",
        "\n",
        "num_fs_dec = df[df['Label'] == 1]['num_first_sing']\n",
        "num_fs_tru = df[df['Label'] == -1]['num_first_sing']\n",
        "num_fp_dec = df[df['Label'] == 1]['num_first_pru']\n",
        "num_fp_tru = df[df['Label'] == -1]['num_first_pru']\n",
        "num_third_dec = df[df['Label'] == 1]['num_third']\n",
        "num_third_tru = df[df['Label'] == -1]['num_third']\n",
        "\n",
        "sns.histplot(num_fs_dec, ax=ax1, element=\"step\", fill=False, label='Deceptive')\n",
        "sns.histplot(num_fs_tru, ax=ax1, element=\"step\", fill=False, label='Truthful')\n",
        "ax1.axvline(x=num_fs_dec.mean(), label='Avg (Deceptive)', c='g')\n",
        "ax1.axvline(x=num_fs_tru.mean(), label='Avg (Truthful)', c='r')\n",
        "ax1.set_title('First-Person Singular Pronoun Histogram')\n",
        "ax1.set(xlabel='')\n",
        "ax1.legend()\n",
        "\n",
        "sns.histplot(num_fp_dec, ax=ax2, element=\"step\", fill=False, label='Deceptive')\n",
        "sns.histplot(num_fp_tru, ax=ax2, element=\"step\", fill=False, label='Truthful')\n",
        "ax2.axvline(x=num_fp_dec.mean(), label='Avg (Deceptive)', c='g')\n",
        "ax2.axvline(x=num_fp_tru.mean(), label='Avg (Truthful)', c='r')\n",
        "ax2.set_title('First-Person Plural Pronoun Histogram')\n",
        "ax2.set(xlabel='')\n",
        "ax2.legend()\n",
        "\n",
        "plt.savefig('first_person_pronoun.png')\n",
        "plt.show()"
      ]
    }
  ],
  "metadata": {
    "colab": {
      "provenance": []
    },
    "kernelspec": {
      "display_name": "Python 3.9.12 ('base')",
      "language": "python",
      "name": "python3"
    },
    "language_info": {
      "codemirror_mode": {
        "name": "ipython",
        "version": 3
      },
      "file_extension": ".py",
      "mimetype": "text/x-python",
      "name": "python",
      "nbconvert_exporter": "python",
      "pygments_lexer": "ipython3",
      "version": "3.9.12"
    },
    "vscode": {
      "interpreter": {
        "hash": "2b32675aa610a2a5db7c4c2427e88756c8d71e8897b52c5f975df15fb74ea7a4"
      }
    }
  },
  "nbformat": 4,
  "nbformat_minor": 5
}